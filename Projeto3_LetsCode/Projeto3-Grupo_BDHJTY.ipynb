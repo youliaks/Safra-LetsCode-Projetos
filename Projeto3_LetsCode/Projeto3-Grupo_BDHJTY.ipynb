{
 "cells": [
  {
   "cell_type": "markdown",
   "metadata": {
    "id": "uPvOXbN8hmJP"
   },
   "source": [
    "# 📊 Projeto 3 - Análise exploratória de dados\n",
    "\n",
    ">  Integrantes:\n",
    "> * Bruno dos Santos Bezerra\n",
    "> * Daniel Garcia Ribeiro\n",
    "> * Hallynny Henrique Barros\n",
    "> * Jaiana Santos Araújo\n",
    "> * Thalles Rafael da Silva Correia\n",
    "> * Youlia Kamei Saito\n",
    "\n"
   ]
  },
  {
   "cell_type": "markdown",
   "metadata": {
    "id": "NJ8JsNGYkcMA"
   },
   "source": [
    "### 🔎 Fazer uma análise exploratória dos dados contido na base de dados do \"World Happiness Report\" nos anos de 2015 a 2019"
   ]
  },
  {
   "cell_type": "code",
   "execution_count": 1,
   "metadata": {
    "id": "WvXLQ015chOU"
   },
   "outputs": [],
   "source": [
    "# Importando as bibliotecas\n",
    "import pandas as pd\n",
    "import numpy as np\n",
    "import matplotlib.pyplot as plt"
   ]
  },
  {
   "cell_type": "code",
   "execution_count": 2,
   "metadata": {
    "id": "qk_TaYTShlKh"
   },
   "outputs": [],
   "source": [
    "# Importando as bases de dados\n",
    "df_2015 = pd.read_csv('bases/2015.csv')\n",
    "df_2016 = pd.read_csv('bases/2016.csv')\n",
    "df_2017 = pd.read_csv('bases/2017.csv')\n",
    "df_2018 = pd.read_csv('bases/2018.csv')\n",
    "df_2019 = pd.read_csv('bases/2019.csv')"
   ]
  },
  {
   "cell_type": "markdown",
   "metadata": {
    "id": "XKgNElIWkV98"
   },
   "source": [
    "### 1. Quais foram as alterações ano a ano no ranking dos primeiros 10 países; 📆"
   ]
  },
  {
   "cell_type": "code",
   "execution_count": 3,
   "metadata": {
    "colab": {
     "base_uri": "https://localhost:8080/",
     "height": 257
    },
    "id": "yHGK1yKZiZEz",
    "outputId": "c5da720c-e8ba-4347-9932-7bd7806368be"
   },
   "outputs": [
    {
     "data": {
      "text/html": [
       "<div>\n",
       "<style scoped>\n",
       "    .dataframe tbody tr th:only-of-type {\n",
       "        vertical-align: middle;\n",
       "    }\n",
       "\n",
       "    .dataframe tbody tr th {\n",
       "        vertical-align: top;\n",
       "    }\n",
       "\n",
       "    .dataframe thead th {\n",
       "        text-align: right;\n",
       "    }\n",
       "</style>\n",
       "<table border=\"1\" class=\"dataframe\">\n",
       "  <thead>\n",
       "    <tr style=\"text-align: right;\">\n",
       "      <th></th>\n",
       "      <th>Contagem de aparições</th>\n",
       "      <th>Country</th>\n",
       "      <th>Region</th>\n",
       "    </tr>\n",
       "  </thead>\n",
       "  <tbody>\n",
       "    <tr>\n",
       "      <th>1</th>\n",
       "      <td>5</td>\n",
       "      <td>Switzerland</td>\n",
       "      <td>Western Europe</td>\n",
       "    </tr>\n",
       "    <tr>\n",
       "      <th>2</th>\n",
       "      <td>5</td>\n",
       "      <td>Iceland</td>\n",
       "      <td>Western Europe</td>\n",
       "    </tr>\n",
       "    <tr>\n",
       "      <th>0</th>\n",
       "      <td>5</td>\n",
       "      <td>Denmark</td>\n",
       "      <td>Western Europe</td>\n",
       "    </tr>\n",
       "    <tr>\n",
       "      <th>3</th>\n",
       "      <td>5</td>\n",
       "      <td>Norway</td>\n",
       "      <td>Western Europe</td>\n",
       "    </tr>\n",
       "    <tr>\n",
       "      <th>5</th>\n",
       "      <td>5</td>\n",
       "      <td>Canada</td>\n",
       "      <td>North America</td>\n",
       "    </tr>\n",
       "    <tr>\n",
       "      <th>4</th>\n",
       "      <td>5</td>\n",
       "      <td>Finland</td>\n",
       "      <td>Western Europe</td>\n",
       "    </tr>\n",
       "    <tr>\n",
       "      <th>6</th>\n",
       "      <td>5</td>\n",
       "      <td>Netherlands</td>\n",
       "      <td>Western Europe</td>\n",
       "    </tr>\n",
       "    <tr>\n",
       "      <th>9</th>\n",
       "      <td>5</td>\n",
       "      <td>Sweden</td>\n",
       "      <td>Western Europe</td>\n",
       "    </tr>\n",
       "    <tr>\n",
       "      <th>7</th>\n",
       "      <td>5</td>\n",
       "      <td>New Zealand</td>\n",
       "      <td>Australia and New Zealand</td>\n",
       "    </tr>\n",
       "    <tr>\n",
       "      <th>8</th>\n",
       "      <td>4</td>\n",
       "      <td>Australia</td>\n",
       "      <td>Australia and New Zealand</td>\n",
       "    </tr>\n",
       "    <tr>\n",
       "      <th>11</th>\n",
       "      <td>1</td>\n",
       "      <td>Austria</td>\n",
       "      <td>Western Europe</td>\n",
       "    </tr>\n",
       "  </tbody>\n",
       "</table>\n",
       "</div>"
      ],
      "text/plain": [
       "    Contagem de aparições      Country                     Region\n",
       "1                       5  Switzerland             Western Europe\n",
       "2                       5      Iceland             Western Europe\n",
       "0                       5      Denmark             Western Europe\n",
       "3                       5       Norway             Western Europe\n",
       "5                       5       Canada              North America\n",
       "4                       5      Finland             Western Europe\n",
       "6                       5  Netherlands             Western Europe\n",
       "9                       5       Sweden             Western Europe\n",
       "7                       5  New Zealand  Australia and New Zealand\n",
       "8                       4    Australia  Australia and New Zealand\n",
       "11                      1      Austria             Western Europe"
      ]
     },
     "metadata": {},
     "output_type": "display_data"
    },
    {
     "data": {
      "text/html": [
       "<style type=\"text/css\">\n",
       "</style>\n",
       "<table id=\"T_ce3ee\">\n",
       "  <thead>\n",
       "    <tr>\n",
       "      <th class=\"blank level0\" >&nbsp;</th>\n",
       "      <th id=\"T_ce3ee_level0_col0\" class=\"col_heading level0 col0\" >Region</th>\n",
       "    </tr>\n",
       "  </thead>\n",
       "  <tbody>\n",
       "    <tr>\n",
       "      <th id=\"T_ce3ee_level0_row0\" class=\"row_heading level0 row0\" >Western Europe</th>\n",
       "      <td id=\"T_ce3ee_row0_col0\" class=\"data row0 col0\" >72.73%</td>\n",
       "    </tr>\n",
       "    <tr>\n",
       "      <th id=\"T_ce3ee_level0_row1\" class=\"row_heading level0 row1\" >Australia and New Zealand</th>\n",
       "      <td id=\"T_ce3ee_row1_col0\" class=\"data row1 col0\" >18.18%</td>\n",
       "    </tr>\n",
       "    <tr>\n",
       "      <th id=\"T_ce3ee_level0_row2\" class=\"row_heading level0 row2\" >North America</th>\n",
       "      <td id=\"T_ce3ee_row2_col0\" class=\"data row2 col0\" >9.09%</td>\n",
       "    </tr>\n",
       "  </tbody>\n",
       "</table>\n"
      ],
      "text/plain": [
       "<pandas.io.formats.style.Styler at 0x2ca499a2af0>"
      ]
     },
     "execution_count": 3,
     "metadata": {},
     "output_type": "execute_result"
    }
   ],
   "source": [
    "# Atribui-se o top 10 de cada ano a uma variável adequada\n",
    "top10_2015 = df_2015.nsmallest(10, 'Happiness Rank')['Country']\n",
    "top10_2016 = df_2016.nsmallest(10, 'Happiness Rank')['Country']\n",
    "top10_2017 = df_2017.nsmallest(10, 'Happiness.Rank')['Country']\n",
    "top10_2018 = df_2018.nsmallest(10, 'Overall rank')['Country or region']\n",
    "top10_2019 = df_2019.nsmallest(10, 'Overall rank')['Country or region']\n",
    "\n",
    "# Cria-se um df contendo todos os top 10 organizados por colunas\n",
    "top_10 = pd.DataFrame({'2015': top10_2015, '2016': top10_2016, '2017': top10_2017, '2018': top10_2018, '2019': top10_2019})\n",
    "top_10.index = top_10.index + 1\n",
    "\n",
    "# Apresenta-se a frequência de aparição de cada país nos 5 anos estudados\n",
    "df_frequencia = pd.DataFrame(top_10.melt()['value'].value_counts())\n",
    "df_frequencia.columns = ['Contagem de aparições']\n",
    "df_frequencia = pd.merge(df_frequencia, df_2016[['Country', 'Region']], right_on = 'Country', left_index = True)\n",
    "display(df_frequencia)\n",
    "pd.DataFrame(df_frequencia['Region'].value_counts(normalize=True)*100).style.format('{:.2f}%')"
   ]
  },
  {
   "cell_type": "markdown",
   "metadata": {},
   "source": [
    "&emsp;Baseado na tabela acima, percebe-se que o top 10 dos países com maior índice de felicidade se manteve praticamente constante, sendo que houve apenas uma troca de países. No caso, a Austrália saiu para dar lugar a Áustria no ano de 2019. \\\n",
    "&emsp;Além disso, observa-se que existe uma concentração de páises nesse top 10 situados na região da Europa Ocidental (72,73%), seguida pela Austrália e Nova Zelândia (18,18%) e América do Norte (9,09%)."
   ]
  },
  {
   "cell_type": "markdown",
   "metadata": {
    "id": "ky7tgtG0kwDR"
   },
   "source": [
    "### 2. Considerando a média de todas as variáveis, quais foram as 3 variáveis que mais mudaram ano a ano (sem contar o score ou ranking)? 📆"
   ]
  },
  {
   "cell_type": "code",
   "execution_count": 4,
   "metadata": {},
   "outputs": [],
   "source": [
    "# Função para trocar colunas de lugar em um dataframe\n",
    "def trocar_colunas(df, coluna_1, coluna_2):\n",
    "    colunas_lista = list(df.columns)\n",
    "    x, y = colunas_lista.index(coluna_1), colunas_lista.index(coluna_2)\n",
    "    colunas_lista[y], colunas_lista[x] = colunas_lista[x], colunas_lista[y]\n",
    "    df = df[colunas_lista]\n",
    "\n",
    "    return df"
   ]
  },
  {
   "cell_type": "code",
   "execution_count": 5,
   "metadata": {
    "id": "E2Ck-qqAijFz"
   },
   "outputs": [],
   "source": [
    "# Coleta de informações de interesse e padronização da nomemclatura e ordem das colunas\n",
    "df_2015_numeros = df_2015.drop(columns = ['Region', 'Happiness Rank', 'Standard Error', 'Dystopia Residual'])\n",
    "df_2015_numeros['Year'] = '2015'\n",
    "\n",
    "df_2016_numeros = df_2016.drop(columns = ['Region', 'Happiness Rank', 'Lower Confidence Interval','Upper Confidence Interval', 'Dystopia Residual'])\n",
    "df_2016_numeros['Year'] = '2016'\n",
    "\n",
    "df_2017_numeros = df_2017.drop(columns = ['Happiness.Rank', 'Whisker.high', 'Whisker.low', 'Dystopia.Residual'])\n",
    "df_2017_numeros = trocar_colunas(df_2017_numeros, 'Generosity', 'Trust..Government.Corruption.')                                        \n",
    "df_2017_numeros.columns = [\"Country\",  'Happiness Score','Economy (GDP per Capita)', 'Family', 'Health (Life Expectancy)','Freedom','Trust (Government Corruption)', 'Generosity']\n",
    "df_2017_numeros['Year'] = '2017'\n",
    "\n",
    "df_2018_numeros = df_2018.drop(columns = ['Overall rank'])\n",
    "df_2018_numeros = trocar_colunas(df_2018_numeros, 'Generosity', 'Perceptions of corruption')\n",
    "df_2018_numeros.columns = [ 'Country', 'Happiness Score', 'Economy (GDP per Capita)', 'Family', 'Health (Life Expectancy)','Freedom','Trust (Government Corruption)', 'Generosity']\n",
    "df_2018_numeros['Year'] = '2018'\n",
    "\n",
    "df_2019_numeros = df_2019.drop(columns = ['Overall rank'])\n",
    "df_2019_numeros = trocar_colunas(df_2019_numeros, 'Generosity', 'Perceptions of corruption')\n",
    "df_2019_numeros.columns = ['Country', 'Happiness Score', 'Economy (GDP per Capita)', 'Family', 'Health (Life Expectancy)','Freedom','Trust (Government Corruption)', 'Generosity']\n",
    "df_2019_numeros['Year'] = '2019'\n",
    "\n",
    "# Agrupamento de todas as informações em um mesmo DataFrame\n",
    "df_5_anos = pd.concat([df_2015_numeros, df_2016_numeros, df_2017_numeros, df_2018_numeros, df_2019_numeros], axis = 0).reset_index(drop=True)\n"
   ]
  },
  {
   "cell_type": "code",
   "execution_count": 6,
   "metadata": {
    "id": "DACzlOUSjLZW"
   },
   "outputs": [],
   "source": [
    "# Padronização dos nomes dos países, pois alguns países possuíam nomes diferentes entre as bases de dados. Por exemplo,\n",
    "# Hong Kong ora aparecia como 'Hong Kong S.A.R., China' e ora como 'Hong Kong.\n",
    "correcao_nomes = {'Hong Kong S.A.R., China':'Hong Kong',\n",
    "            'North Macedonia':'Macedonia',\n",
    "            'North Cyprus' :'Northern Cyprus',\n",
    "            'Taiwan Province of China' : 'Taiwan',\n",
    "            'Somaliland region':'Somaliland Region',\n",
    "            ' Northern Cyprus': 'Northern Cyprus',\n",
    "            'Trinidad & Tobago': 'Trinidad and Tobago'}\n",
    "\n",
    "df_5_anos = df_5_anos.replace(correcao_nomes)"
   ]
  },
  {
   "cell_type": "code",
   "execution_count": 7,
   "metadata": {},
   "outputs": [
    {
     "data": {
      "text/html": [
       "<style type=\"text/css\">\n",
       "</style>\n",
       "<table id=\"T_9cc19\">\n",
       "  <thead>\n",
       "    <tr>\n",
       "      <th class=\"blank level0\" >&nbsp;</th>\n",
       "      <th id=\"T_9cc19_level0_col0\" class=\"col_heading level0 col0\" >Happiness Score</th>\n",
       "      <th id=\"T_9cc19_level0_col1\" class=\"col_heading level0 col1\" >Economy (GDP per Capita)</th>\n",
       "      <th id=\"T_9cc19_level0_col2\" class=\"col_heading level0 col2\" >Family</th>\n",
       "      <th id=\"T_9cc19_level0_col3\" class=\"col_heading level0 col3\" >Health (Life Expectancy)</th>\n",
       "      <th id=\"T_9cc19_level0_col4\" class=\"col_heading level0 col4\" >Freedom</th>\n",
       "      <th id=\"T_9cc19_level0_col5\" class=\"col_heading level0 col5\" >Trust (Government Corruption)</th>\n",
       "      <th id=\"T_9cc19_level0_col6\" class=\"col_heading level0 col6\" >Generosity</th>\n",
       "    </tr>\n",
       "    <tr>\n",
       "      <th class=\"index_name level0\" >Year</th>\n",
       "      <th class=\"blank col0\" >&nbsp;</th>\n",
       "      <th class=\"blank col1\" >&nbsp;</th>\n",
       "      <th class=\"blank col2\" >&nbsp;</th>\n",
       "      <th class=\"blank col3\" >&nbsp;</th>\n",
       "      <th class=\"blank col4\" >&nbsp;</th>\n",
       "      <th class=\"blank col5\" >&nbsp;</th>\n",
       "      <th class=\"blank col6\" >&nbsp;</th>\n",
       "    </tr>\n",
       "  </thead>\n",
       "  <tbody>\n",
       "    <tr>\n",
       "      <th id=\"T_9cc19_level0_row0\" class=\"row_heading level0 row0\" >2015</th>\n",
       "      <td id=\"T_9cc19_row0_col0\" class=\"data row0 col0\" >5.38</td>\n",
       "      <td id=\"T_9cc19_row0_col1\" class=\"data row0 col1\" >0.85</td>\n",
       "      <td id=\"T_9cc19_row0_col2\" class=\"data row0 col2\" >0.99</td>\n",
       "      <td id=\"T_9cc19_row0_col3\" class=\"data row0 col3\" >0.63</td>\n",
       "      <td id=\"T_9cc19_row0_col4\" class=\"data row0 col4\" >0.43</td>\n",
       "      <td id=\"T_9cc19_row0_col5\" class=\"data row0 col5\" >0.14</td>\n",
       "      <td id=\"T_9cc19_row0_col6\" class=\"data row0 col6\" >0.24</td>\n",
       "    </tr>\n",
       "    <tr>\n",
       "      <th id=\"T_9cc19_level0_row1\" class=\"row_heading level0 row1\" >2016</th>\n",
       "      <td id=\"T_9cc19_row1_col0\" class=\"data row1 col0\" >5.38</td>\n",
       "      <td id=\"T_9cc19_row1_col1\" class=\"data row1 col1\" >0.95</td>\n",
       "      <td id=\"T_9cc19_row1_col2\" class=\"data row1 col2\" >0.79</td>\n",
       "      <td id=\"T_9cc19_row1_col3\" class=\"data row1 col3\" >0.56</td>\n",
       "      <td id=\"T_9cc19_row1_col4\" class=\"data row1 col4\" >0.37</td>\n",
       "      <td id=\"T_9cc19_row1_col5\" class=\"data row1 col5\" >0.14</td>\n",
       "      <td id=\"T_9cc19_row1_col6\" class=\"data row1 col6\" >0.24</td>\n",
       "    </tr>\n",
       "    <tr>\n",
       "      <th id=\"T_9cc19_level0_row2\" class=\"row_heading level0 row2\" >2017</th>\n",
       "      <td id=\"T_9cc19_row2_col0\" class=\"data row2 col0\" >5.35</td>\n",
       "      <td id=\"T_9cc19_row2_col1\" class=\"data row2 col1\" >0.98</td>\n",
       "      <td id=\"T_9cc19_row2_col2\" class=\"data row2 col2\" >1.19</td>\n",
       "      <td id=\"T_9cc19_row2_col3\" class=\"data row2 col3\" >0.55</td>\n",
       "      <td id=\"T_9cc19_row2_col4\" class=\"data row2 col4\" >0.41</td>\n",
       "      <td id=\"T_9cc19_row2_col5\" class=\"data row2 col5\" >0.12</td>\n",
       "      <td id=\"T_9cc19_row2_col6\" class=\"data row2 col6\" >0.25</td>\n",
       "    </tr>\n",
       "    <tr>\n",
       "      <th id=\"T_9cc19_level0_row3\" class=\"row_heading level0 row3\" >2018</th>\n",
       "      <td id=\"T_9cc19_row3_col0\" class=\"data row3 col0\" >5.38</td>\n",
       "      <td id=\"T_9cc19_row3_col1\" class=\"data row3 col1\" >0.89</td>\n",
       "      <td id=\"T_9cc19_row3_col2\" class=\"data row3 col2\" >1.21</td>\n",
       "      <td id=\"T_9cc19_row3_col3\" class=\"data row3 col3\" >0.60</td>\n",
       "      <td id=\"T_9cc19_row3_col4\" class=\"data row3 col4\" >0.45</td>\n",
       "      <td id=\"T_9cc19_row3_col5\" class=\"data row3 col5\" >0.11</td>\n",
       "      <td id=\"T_9cc19_row3_col6\" class=\"data row3 col6\" >0.18</td>\n",
       "    </tr>\n",
       "    <tr>\n",
       "      <th id=\"T_9cc19_level0_row4\" class=\"row_heading level0 row4\" >2019</th>\n",
       "      <td id=\"T_9cc19_row4_col0\" class=\"data row4 col0\" >5.41</td>\n",
       "      <td id=\"T_9cc19_row4_col1\" class=\"data row4 col1\" >0.91</td>\n",
       "      <td id=\"T_9cc19_row4_col2\" class=\"data row4 col2\" >1.21</td>\n",
       "      <td id=\"T_9cc19_row4_col3\" class=\"data row4 col3\" >0.73</td>\n",
       "      <td id=\"T_9cc19_row4_col4\" class=\"data row4 col4\" >0.39</td>\n",
       "      <td id=\"T_9cc19_row4_col5\" class=\"data row4 col5\" >0.11</td>\n",
       "      <td id=\"T_9cc19_row4_col6\" class=\"data row4 col6\" >0.18</td>\n",
       "    </tr>\n",
       "  </tbody>\n",
       "</table>\n"
      ],
      "text/plain": [
       "<pandas.io.formats.style.Styler at 0x2ca469c0af0>"
      ]
     },
     "metadata": {},
     "output_type": "display_data"
    },
    {
     "data": {
      "image/png": "[encoded data removed]",
      "text/plain": [
       "<Figure size 1080x720 with 1 Axes>"
      ]
     },
     "metadata": {
      "needs_background": "light"
     },
     "output_type": "display_data"
    }
   ],
   "source": [
    "# Agrupa os dados por anos, apresentando as médias de cada variável\n",
    "agrupado_por_ano = df_5_anos.groupby(by = 'Year')\n",
    "agrupado_por_ano.mean().plot(ylim=(0,1.4), ylabel='Score per criterion', figsize=((15, 10))).legend(loc='upper left')\n",
    "media_variaveis_por_ano = agrupado_por_ano.mean()\n",
    "display(media_variaveis_por_ano.style.format('{:.2f}'))"
   ]
  },
  {
   "cell_type": "code",
   "execution_count": 8,
   "metadata": {},
   "outputs": [],
   "source": [
    "# Função para destacar as 3 maiores variações daquela coluna\n",
    "def highlight_max(s):\n",
    "    is_max = abs(s).isin((s.apply(lambda x: abs(x)).nlargest(3)))\n",
    "    return ['background: gray' if cell else '' for cell in is_max]"
   ]
  },
  {
   "cell_type": "code",
   "execution_count": 9,
   "metadata": {},
   "outputs": [
    {
     "data": {
      "text/html": [
       "<style type=\"text/css\">\n",
       "</style>\n",
       "<table id=\"T_b3d55\">\n",
       "  <thead>\n",
       "    <tr>\n",
       "      <th class=\"blank level0\" >&nbsp;</th>\n",
       "      <th id=\"T_b3d55_level0_col0\" class=\"col_heading level0 col0\" >De 2015 a 2016</th>\n",
       "      <th id=\"T_b3d55_level0_col1\" class=\"col_heading level0 col1\" >De 2016 a 2017</th>\n",
       "      <th id=\"T_b3d55_level0_col2\" class=\"col_heading level0 col2\" >De 2017 a 2018</th>\n",
       "      <th id=\"T_b3d55_level0_col3\" class=\"col_heading level0 col3\" >De 2018 a 2019</th>\n",
       "    </tr>\n",
       "  </thead>\n",
       "  <tbody>\n",
       "    <tr>\n",
       "      <th id=\"T_b3d55_level0_row0\" class=\"row_heading level0 row0\" >Economy (GDP per Capita)</th>\n",
       "      <td id=\"T_b3d55_row0_col0\" class=\"data row0 col0\" >0.108</td>\n",
       "      <td id=\"T_b3d55_row0_col1\" class=\"data row0 col1\" >0.031</td>\n",
       "      <td id=\"T_b3d55_row0_col2\" class=\"data row0 col2\" >-0.093</td>\n",
       "      <td id=\"T_b3d55_row0_col3\" class=\"data row0 col3\" >0.014</td>\n",
       "    </tr>\n",
       "    <tr>\n",
       "      <th id=\"T_b3d55_level0_row1\" class=\"row_heading level0 row1\" >Family</th>\n",
       "      <td id=\"T_b3d55_row1_col0\" class=\"data row1 col0\" >-0.197</td>\n",
       "      <td id=\"T_b3d55_row1_col1\" class=\"data row1 col1\" >0.395</td>\n",
       "      <td id=\"T_b3d55_row1_col2\" class=\"data row1 col2\" >0.024</td>\n",
       "      <td id=\"T_b3d55_row1_col3\" class=\"data row1 col3\" >-0.004</td>\n",
       "    </tr>\n",
       "    <tr>\n",
       "      <th id=\"T_b3d55_level0_row2\" class=\"row_heading level0 row2\" >Health (Life Expectancy)</th>\n",
       "      <td id=\"T_b3d55_row2_col0\" class=\"data row2 col0\" >-0.073</td>\n",
       "      <td id=\"T_b3d55_row2_col1\" class=\"data row2 col1\" >-0.006</td>\n",
       "      <td id=\"T_b3d55_row2_col2\" class=\"data row2 col2\" >0.046</td>\n",
       "      <td id=\"T_b3d55_row2_col3\" class=\"data row2 col3\" >0.128</td>\n",
       "    </tr>\n",
       "    <tr>\n",
       "      <th id=\"T_b3d55_level0_row3\" class=\"row_heading level0 row3\" >Freedom</th>\n",
       "      <td id=\"T_b3d55_row3_col0\" class=\"data row3 col0\" >-0.058</td>\n",
       "      <td id=\"T_b3d55_row3_col1\" class=\"data row3 col1\" >0.038</td>\n",
       "      <td id=\"T_b3d55_row3_col2\" class=\"data row3 col2\" >0.046</td>\n",
       "      <td id=\"T_b3d55_row3_col3\" class=\"data row3 col3\" >-0.062</td>\n",
       "    </tr>\n",
       "    <tr>\n",
       "      <th id=\"T_b3d55_level0_row4\" class=\"row_heading level0 row4\" >Trust (Government Corruption)</th>\n",
       "      <td id=\"T_b3d55_row4_col0\" class=\"data row4 col0\" >-0.006</td>\n",
       "      <td id=\"T_b3d55_row4_col1\" class=\"data row4 col1\" >-0.015</td>\n",
       "      <td id=\"T_b3d55_row4_col2\" class=\"data row4 col2\" >-0.011</td>\n",
       "      <td id=\"T_b3d55_row4_col3\" class=\"data row4 col3\" >-0.001</td>\n",
       "    </tr>\n",
       "    <tr>\n",
       "      <th id=\"T_b3d55_level0_row5\" class=\"row_heading level0 row5\" >Generosity</th>\n",
       "      <td id=\"T_b3d55_row5_col0\" class=\"data row5 col0\" >0.005</td>\n",
       "      <td id=\"T_b3d55_row5_col1\" class=\"data row5 col1\" >0.004</td>\n",
       "      <td id=\"T_b3d55_row5_col2\" class=\"data row5 col2\" >-0.066</td>\n",
       "      <td id=\"T_b3d55_row5_col3\" class=\"data row5 col3\" >0.004</td>\n",
       "    </tr>\n",
       "  </tbody>\n",
       "</table>\n"
      ],
      "text/plain": [
       "<pandas.io.formats.style.Styler at 0x2ca4a50e0a0>"
      ]
     },
     "metadata": {},
     "output_type": "display_data"
    },
    {
     "data": {
      "text/html": [
       "<style type=\"text/css\">\n",
       "#T_e272d_row0_col0, #T_e272d_row0_col2, #T_e272d_row1_col0, #T_e272d_row1_col1, #T_e272d_row2_col3, #T_e272d_row3_col0, #T_e272d_row3_col1, #T_e272d_row3_col2, #T_e272d_row3_col3, #T_e272d_row4_col1, #T_e272d_row5_col2, #T_e272d_row5_col3 {\n",
       "  background: gray;\n",
       "}\n",
       "</style>\n",
       "<table id=\"T_e272d\">\n",
       "  <thead>\n",
       "    <tr>\n",
       "      <th class=\"blank level0\" >&nbsp;</th>\n",
       "      <th id=\"T_e272d_level0_col0\" class=\"col_heading level0 col0\" >De 2015 a 2016 [%]</th>\n",
       "      <th id=\"T_e272d_level0_col1\" class=\"col_heading level0 col1\" >De 2016 a 2017 [%]</th>\n",
       "      <th id=\"T_e272d_level0_col2\" class=\"col_heading level0 col2\" >De 2017 a 2018 [%]</th>\n",
       "      <th id=\"T_e272d_level0_col3\" class=\"col_heading level0 col3\" >De 2018 a 2019 [%]</th>\n",
       "    </tr>\n",
       "  </thead>\n",
       "  <tbody>\n",
       "    <tr>\n",
       "      <th id=\"T_e272d_level0_row0\" class=\"row_heading level0 row0\" >Economy (GDP per Capita)</th>\n",
       "      <td id=\"T_e272d_row0_col0\" class=\"data row0 col0\" >12.73%</td>\n",
       "      <td id=\"T_e272d_row0_col1\" class=\"data row0 col1\" >3.23%</td>\n",
       "      <td id=\"T_e272d_row0_col2\" class=\"data row0 col2\" >-9.47%</td>\n",
       "      <td id=\"T_e272d_row0_col3\" class=\"data row0 col3\" >1.54%</td>\n",
       "    </tr>\n",
       "    <tr>\n",
       "      <th id=\"T_e272d_level0_row1\" class=\"row_heading level0 row1\" >Family</th>\n",
       "      <td id=\"T_e272d_row1_col0\" class=\"data row1 col0\" >-19.92%</td>\n",
       "      <td id=\"T_e272d_row1_col1\" class=\"data row1 col1\" >49.81%</td>\n",
       "      <td id=\"T_e272d_row1_col2\" class=\"data row1 col2\" >2.05%</td>\n",
       "      <td id=\"T_e272d_row1_col3\" class=\"data row1 col3\" >-0.36%</td>\n",
       "    </tr>\n",
       "    <tr>\n",
       "      <th id=\"T_e272d_level0_row2\" class=\"row_heading level0 row2\" >Health (Life Expectancy)</th>\n",
       "      <td id=\"T_e272d_row2_col0\" class=\"data row2 col0\" >-11.53%</td>\n",
       "      <td id=\"T_e272d_row2_col1\" class=\"data row2 col1\" >-1.13%</td>\n",
       "      <td id=\"T_e272d_row2_col2\" class=\"data row2 col2\" >8.34%</td>\n",
       "      <td id=\"T_e272d_row2_col3\" class=\"data row2 col3\" >21.41%</td>\n",
       "    </tr>\n",
       "    <tr>\n",
       "      <th id=\"T_e272d_level0_row3\" class=\"row_heading level0 row3\" >Freedom</th>\n",
       "      <td id=\"T_e272d_row3_col0\" class=\"data row3 col0\" >-13.44%</td>\n",
       "      <td id=\"T_e272d_row3_col1\" class=\"data row3 col1\" >10.19%</td>\n",
       "      <td id=\"T_e272d_row3_col2\" class=\"data row3 col2\" >11.18%</td>\n",
       "      <td id=\"T_e272d_row3_col3\" class=\"data row3 col3\" >-13.63%</td>\n",
       "    </tr>\n",
       "    <tr>\n",
       "      <th id=\"T_e272d_level0_row4\" class=\"row_heading level0 row4\" >Trust (Government Corruption)</th>\n",
       "      <td id=\"T_e272d_row4_col0\" class=\"data row4 col0\" >-4.04%</td>\n",
       "      <td id=\"T_e272d_row4_col1\" class=\"data row4 col1\" >-10.54%</td>\n",
       "      <td id=\"T_e272d_row4_col2\" class=\"data row4 col2\" >-9.03%</td>\n",
       "      <td id=\"T_e272d_row4_col3\" class=\"data row4 col3\" >-1.25%</td>\n",
       "    </tr>\n",
       "    <tr>\n",
       "      <th id=\"T_e272d_level0_row5\" class=\"row_heading level0 row5\" >Generosity</th>\n",
       "      <td id=\"T_e272d_row5_col0\" class=\"data row5 col0\" >2.25%</td>\n",
       "      <td id=\"T_e272d_row5_col1\" class=\"data row5 col1\" >1.75%</td>\n",
       "      <td id=\"T_e272d_row5_col2\" class=\"data row5 col2\" >-26.68%</td>\n",
       "      <td id=\"T_e272d_row5_col3\" class=\"data row5 col3\" >2.12%</td>\n",
       "    </tr>\n",
       "  </tbody>\n",
       "</table>\n"
      ],
      "text/plain": [
       "<pandas.io.formats.style.Styler at 0x2ca49d19550>"
      ]
     },
     "metadata": {},
     "output_type": "display_data"
    }
   ],
   "source": [
    "# Calcula as variações nominais e percentuais das médias das variáveis a cada ano e trata-se os dados faltantes\n",
    "variacao = media_variaveis_por_ano.diff().dropna().iloc[:,1:]\n",
    "variacao.index = ['De 2015 a 2016', 'De 2016 a 2017', 'De 2017 a 2018', 'De 2018 a 2019']\n",
    "display(variacao.T.style.format('{:.3f}'))\n",
    "\n",
    "variacao_percentual = (media_variaveis_por_ano.pct_change().dropna() * 100).iloc[:,1:]\n",
    "variacao_percentual.index = ['De 2015 a 2016 [%]', 'De 2016 a 2017 [%]', 'De 2017 a 2018 [%]', 'De 2018 a 2019 [%]']\n",
    "display(variacao_percentual.T.style.format('{:.2f}%').apply(highlight_max))"
   ]
  },
  {
   "cell_type": "code",
   "execution_count": 10,
   "metadata": {},
   "outputs": [
    {
     "data": {
      "text/html": [
       "<style type=\"text/css\">\n",
       "</style>\n",
       "<table id=\"T_93bba\">\n",
       "  <thead>\n",
       "    <tr>\n",
       "      <th class=\"blank level0\" >&nbsp;</th>\n",
       "      <th id=\"T_93bba_level0_col0\" class=\"col_heading level0 col0\" >Economy (GDP per Capita)</th>\n",
       "      <th id=\"T_93bba_level0_col1\" class=\"col_heading level0 col1\" >Family</th>\n",
       "      <th id=\"T_93bba_level0_col2\" class=\"col_heading level0 col2\" >Health (Life Expectancy)</th>\n",
       "      <th id=\"T_93bba_level0_col3\" class=\"col_heading level0 col3\" >Freedom</th>\n",
       "      <th id=\"T_93bba_level0_col4\" class=\"col_heading level0 col4\" >Trust (Government Corruption)</th>\n",
       "      <th id=\"T_93bba_level0_col5\" class=\"col_heading level0 col5\" >Generosity</th>\n",
       "    </tr>\n",
       "  </thead>\n",
       "  <tbody>\n",
       "    <tr>\n",
       "      <th id=\"T_93bba_level0_row0\" class=\"row_heading level0 row0\" >mean</th>\n",
       "      <td id=\"T_93bba_row0_col0\" class=\"data row0 col0\" >0.92</td>\n",
       "      <td id=\"T_93bba_row0_col1\" class=\"data row0 col1\" >1.08</td>\n",
       "      <td id=\"T_93bba_row0_col2\" class=\"data row0 col2\" >0.61</td>\n",
       "      <td id=\"T_93bba_row0_col3\" class=\"data row0 col3\" >0.41</td>\n",
       "      <td id=\"T_93bba_row0_col4\" class=\"data row0 col4\" >0.13</td>\n",
       "      <td id=\"T_93bba_row0_col5\" class=\"data row0 col5\" >0.22</td>\n",
       "    </tr>\n",
       "    <tr>\n",
       "      <th id=\"T_93bba_level0_row1\" class=\"row_heading level0 row1\" >std</th>\n",
       "      <td id=\"T_93bba_row1_col0\" class=\"data row1 col0\" >0.05</td>\n",
       "      <td id=\"T_93bba_row1_col1\" class=\"data row1 col1\" >0.18</td>\n",
       "      <td id=\"T_93bba_row1_col2\" class=\"data row1 col2\" >0.07</td>\n",
       "      <td id=\"T_93bba_row1_col3\" class=\"data row1 col3\" >0.03</td>\n",
       "      <td id=\"T_93bba_row1_col4\" class=\"data row1 col4\" >0.01</td>\n",
       "      <td id=\"T_93bba_row1_col5\" class=\"data row1 col5\" >0.03</td>\n",
       "    </tr>\n",
       "    <tr>\n",
       "      <th id=\"T_93bba_level0_row2\" class=\"row_heading level0 row2\" >min</th>\n",
       "      <td id=\"T_93bba_row2_col0\" class=\"data row2 col0\" >0.85</td>\n",
       "      <td id=\"T_93bba_row2_col1\" class=\"data row2 col1\" >0.79</td>\n",
       "      <td id=\"T_93bba_row2_col2\" class=\"data row2 col2\" >0.55</td>\n",
       "      <td id=\"T_93bba_row2_col3\" class=\"data row2 col3\" >0.37</td>\n",
       "      <td id=\"T_93bba_row2_col4\" class=\"data row2 col4\" >0.11</td>\n",
       "      <td id=\"T_93bba_row2_col5\" class=\"data row2 col5\" >0.18</td>\n",
       "    </tr>\n",
       "    <tr>\n",
       "      <th id=\"T_93bba_level0_row3\" class=\"row_heading level0 row3\" >max</th>\n",
       "      <td id=\"T_93bba_row3_col0\" class=\"data row3 col0\" >0.98</td>\n",
       "      <td id=\"T_93bba_row3_col1\" class=\"data row3 col1\" >1.21</td>\n",
       "      <td id=\"T_93bba_row3_col2\" class=\"data row3 col2\" >0.73</td>\n",
       "      <td id=\"T_93bba_row3_col3\" class=\"data row3 col3\" >0.45</td>\n",
       "      <td id=\"T_93bba_row3_col4\" class=\"data row3 col4\" >0.14</td>\n",
       "      <td id=\"T_93bba_row3_col5\" class=\"data row3 col5\" >0.25</td>\n",
       "    </tr>\n",
       "  </tbody>\n",
       "</table>\n"
      ],
      "text/plain": [
       "<pandas.io.formats.style.Styler at 0x2ca4a4f9940>"
      ]
     },
     "execution_count": 10,
     "metadata": {},
     "output_type": "execute_result"
    }
   ],
   "source": [
    "# Apresenta-se uma análise geral das variáveis em todo período analisado\n",
    "media_variaveis_por_ano.describe().drop(index=['count', '25%', '50%', '75%'], columns=['Happiness Score']).style.format('{:.2f}')"
   ]
  },
  {
   "cell_type": "markdown",
   "metadata": {},
   "source": [
    "&emsp;Por meio da tabela que mostra as variações percentuais, é possível observar as 3 variáveis que mais mudaram ano a ano. Assim, de 2015 a 2016, temos que as três foram: Família, Liberdade e GDP. De 2016 a 2017: Familia, Corrupção e Liberdade. De 2017 a 2018: Generosidade, Liberdade e GDP. De 2018 a 2019: Expectatva de vida, Liberdade e Generosidade. \\\n",
    "&emsp;Além disso, na figura acima, observa-se as médias de cada variável ao longo dos anos e, na última tabela, dados estatísticos descritivos das mesmas. Podemos também observar que a variável que mais se manteve constante foi a \"Corrupção\" pois possui o menor desvio padrão."
   ]
  },
  {
   "cell_type": "markdown",
   "metadata": {
    "id": "Xn4-E5a0keYI"
   },
   "source": [
    "### 3. Quais foram os top 3 países que mais tiveram mudança positiva e negativa de GPD do ano 2016 para 2017. ✅❌"
   ]
  },
  {
   "cell_type": "code",
   "execution_count": 11,
   "metadata": {
    "id": "3fxs_APelF7G"
   },
   "outputs": [],
   "source": [
    "# Criando outro dataframe com as variáveis de interesse e na ordem adequada\n",
    "geral_GPD = df_5_anos.pivot_table(\n",
    "    values = 'Economy (GDP per Capita)',\n",
    "    index = ['Year'],\n",
    "    columns = ['Country'],\n",
    "    fill_value = np.nan,\n",
    "    dropna = False,\n",
    "    aggfunc = 'mean'\n",
    ")\n",
    "\n",
    "# Cria-se diversos dataframes com os top 3 positivo e negativo\n",
    "variacao_GPD = geral_GPD.diff().iloc[1:,:].T\n",
    "top_3_positivo_15_16 = variacao_GPD['2016'].nlargest(3)\n",
    "top_3_negativo_15_16 = variacao_GPD['2016'].nsmallest(3)\n",
    "top_3_positivo_16_17 = variacao_GPD['2017'].nlargest(3)\n",
    "top_3_negativo_16_17 = variacao_GPD['2017'].nsmallest(3)\n",
    "top_3_positivo_17_18 = variacao_GPD['2018'].nlargest(3)\n",
    "top_3_negativo_17_18 = variacao_GPD['2018'].nsmallest(3)\n",
    "top_3_positivo_18_19 = variacao_GPD['2019'].nlargest(3)\n",
    "top_3_negativo_18_19 = variacao_GPD['2019'].nsmallest(3)"
   ]
  },
  {
   "cell_type": "code",
   "execution_count": 12,
   "metadata": {
    "id": "WfqYEn-hljvS"
   },
   "outputs": [
    {
     "name": "stdout",
     "output_type": "stream",
     "text": [
      "Resultados de 2015 a 2016\n"
     ]
    },
    {
     "data": {
      "text/html": [
       "<style type=\"text/css\">\n",
       "</style>\n",
       "<table id=\"T_dcdd0\">\n",
       "  <thead>\n",
       "    <tr>\n",
       "      <th class=\"blank level0\" >&nbsp;</th>\n",
       "      <th id=\"T_dcdd0_level0_col0\" class=\"col_heading level0 col0\" >Country</th>\n",
       "      <th id=\"T_dcdd0_level0_col1\" class=\"col_heading level0 col1\" >Greatest GPD variations</th>\n",
       "      <th id=\"T_dcdd0_level0_col2\" class=\"col_heading level0 col2\" >Country</th>\n",
       "      <th id=\"T_dcdd0_level0_col3\" class=\"col_heading level0 col3\" >Lowest GPD variations</th>\n",
       "    </tr>\n",
       "  </thead>\n",
       "  <tbody>\n",
       "    <tr>\n",
       "      <th id=\"T_dcdd0_level0_row0\" class=\"row_heading level0 row0\" >0</th>\n",
       "      <td id=\"T_dcdd0_row0_col0\" class=\"data row0 col0\" >Tanzania</td>\n",
       "      <td id=\"T_dcdd0_row0_col1\" class=\"data row0 col1\" >0.19</td>\n",
       "      <td id=\"T_dcdd0_row0_col2\" class=\"data row0 col2\" >Libya</td>\n",
       "      <td id=\"T_dcdd0_row0_col3\" class=\"data row0 col3\" >-0.06</td>\n",
       "    </tr>\n",
       "    <tr>\n",
       "      <th id=\"T_dcdd0_level0_row1\" class=\"row_heading level0 row1\" >1</th>\n",
       "      <td id=\"T_dcdd0_row1_col0\" class=\"data row1 col0\" >Mongolia</td>\n",
       "      <td id=\"T_dcdd0_row1_col1\" class=\"data row1 col1\" >0.16</td>\n",
       "      <td id=\"T_dcdd0_row1_col2\" class=\"data row1 col2\" >Yemen</td>\n",
       "      <td id=\"T_dcdd0_row1_col3\" class=\"data row1 col3\" >0.03</td>\n",
       "    </tr>\n",
       "    <tr>\n",
       "      <th id=\"T_dcdd0_level0_row2\" class=\"row_heading level0 row2\" >2</th>\n",
       "      <td id=\"T_dcdd0_row2_col0\" class=\"data row2 col0\" >Mauritania</td>\n",
       "      <td id=\"T_dcdd0_row2_col1\" class=\"data row2 col1\" >0.16</td>\n",
       "      <td id=\"T_dcdd0_row2_col2\" class=\"data row2 col2\" >Sierra Leone</td>\n",
       "      <td id=\"T_dcdd0_row2_col3\" class=\"data row2 col3\" >0.03</td>\n",
       "    </tr>\n",
       "  </tbody>\n",
       "</table>\n"
      ],
      "text/plain": [
       "<pandas.io.formats.style.Styler at 0x2ca49d7a310>"
      ]
     },
     "metadata": {},
     "output_type": "display_data"
    },
    {
     "name": "stdout",
     "output_type": "stream",
     "text": [
      "Resultados de 2016 a 2017\n"
     ]
    },
    {
     "data": {
      "text/html": [
       "<style type=\"text/css\">\n",
       "</style>\n",
       "<table id=\"T_45011\">\n",
       "  <thead>\n",
       "    <tr>\n",
       "      <th class=\"blank level0\" >&nbsp;</th>\n",
       "      <th id=\"T_45011_level0_col0\" class=\"col_heading level0 col0\" >Country</th>\n",
       "      <th id=\"T_45011_level0_col1\" class=\"col_heading level0 col1\" >Greatest GPD variations</th>\n",
       "      <th id=\"T_45011_level0_col2\" class=\"col_heading level0 col2\" >Country</th>\n",
       "      <th id=\"T_45011_level0_col3\" class=\"col_heading level0 col3\" >Lowest GPD variations</th>\n",
       "    </tr>\n",
       "  </thead>\n",
       "  <tbody>\n",
       "    <tr>\n",
       "      <th id=\"T_45011_level0_row0\" class=\"row_heading level0 row0\" >0</th>\n",
       "      <td id=\"T_45011_row0_col0\" class=\"data row0 col0\" >Mali</td>\n",
       "      <td id=\"T_45011_row0_col1\" class=\"data row0 col1\" >0.16</td>\n",
       "      <td id=\"T_45011_row0_col2\" class=\"data row0 col2\" >Lebanon</td>\n",
       "      <td id=\"T_45011_row0_col3\" class=\"data row0 col3\" >-0.05</td>\n",
       "    </tr>\n",
       "    <tr>\n",
       "      <th id=\"T_45011_level0_row1\" class=\"row_heading level0 row1\" >1</th>\n",
       "      <td id=\"T_45011_row1_col0\" class=\"data row1 col0\" >Malawi</td>\n",
       "      <td id=\"T_45011_row1_col1\" class=\"data row1 col1\" >0.15</td>\n",
       "      <td id=\"T_45011_row1_col2\" class=\"data row1 col2\" >Jordan</td>\n",
       "      <td id=\"T_45011_row1_col3\" class=\"data row1 col3\" >-0.01</td>\n",
       "    </tr>\n",
       "    <tr>\n",
       "      <th id=\"T_45011_level0_row2\" class=\"row_heading level0 row2\" >2</th>\n",
       "      <td id=\"T_45011_row2_col0\" class=\"data row2 col0\" >Georgia</td>\n",
       "      <td id=\"T_45011_row2_col1\" class=\"data row2 col1\" >0.11</td>\n",
       "      <td id=\"T_45011_row2_col2\" class=\"data row2 col2\" >Venezuela</td>\n",
       "      <td id=\"T_45011_row2_col3\" class=\"data row2 col3\" >-0.01</td>\n",
       "    </tr>\n",
       "  </tbody>\n",
       "</table>\n"
      ],
      "text/plain": [
       "<pandas.io.formats.style.Styler at 0x2ca49d7aca0>"
      ]
     },
     "metadata": {},
     "output_type": "display_data"
    },
    {
     "name": "stdout",
     "output_type": "stream",
     "text": [
      "Resultados de 2017 a 2018\n"
     ]
    },
    {
     "data": {
      "text/html": [
       "<style type=\"text/css\">\n",
       "</style>\n",
       "<table id=\"T_07a27\">\n",
       "  <thead>\n",
       "    <tr>\n",
       "      <th class=\"blank level0\" >&nbsp;</th>\n",
       "      <th id=\"T_07a27_level0_col0\" class=\"col_heading level0 col0\" >Country</th>\n",
       "      <th id=\"T_07a27_level0_col1\" class=\"col_heading level0 col1\" >Greatest GPD variations</th>\n",
       "      <th id=\"T_07a27_level0_col2\" class=\"col_heading level0 col2\" >Country</th>\n",
       "      <th id=\"T_07a27_level0_col3\" class=\"col_heading level0 col3\" >Lowest GPD variations</th>\n",
       "    </tr>\n",
       "  </thead>\n",
       "  <tbody>\n",
       "    <tr>\n",
       "      <th id=\"T_07a27_level0_row0\" class=\"row_heading level0 row0\" >0</th>\n",
       "      <td id=\"T_07a27_row0_col0\" class=\"data row0 col0\" >United Arab Emirates</td>\n",
       "      <td id=\"T_07a27_row0_col1\" class=\"data row0 col1\" >0.47</td>\n",
       "      <td id=\"T_07a27_row0_col2\" class=\"data row0 col2\" >Qatar</td>\n",
       "      <td id=\"T_07a27_row0_col3\" class=\"data row0 col3\" >-0.22</td>\n",
       "    </tr>\n",
       "    <tr>\n",
       "      <th id=\"T_07a27_level0_row1\" class=\"row_heading level0 row1\" >1</th>\n",
       "      <td id=\"T_07a27_row1_col0\" class=\"data row1 col0\" >Myanmar</td>\n",
       "      <td id=\"T_07a27_row1_col1\" class=\"data row1 col1\" >0.31</td>\n",
       "      <td id=\"T_07a27_row1_col2\" class=\"data row1 col2\" >United Kingdom</td>\n",
       "      <td id=\"T_07a27_row1_col3\" class=\"data row1 col3\" >-0.20</td>\n",
       "    </tr>\n",
       "    <tr>\n",
       "      <th id=\"T_07a27_level0_row2\" class=\"row_heading level0 row2\" >2</th>\n",
       "      <td id=\"T_07a27_row2_col0\" class=\"data row2 col0\" >Guinea</td>\n",
       "      <td id=\"T_07a27_row2_col1\" class=\"data row2 col1\" >0.10</td>\n",
       "      <td id=\"T_07a27_row2_col2\" class=\"data row2 col2\" >Jordan</td>\n",
       "      <td id=\"T_07a27_row2_col3\" class=\"data row2 col3\" >-0.17</td>\n",
       "    </tr>\n",
       "  </tbody>\n",
       "</table>\n"
      ],
      "text/plain": [
       "<pandas.io.formats.style.Styler at 0x2ca49d7aca0>"
      ]
     },
     "metadata": {},
     "output_type": "display_data"
    },
    {
     "name": "stdout",
     "output_type": "stream",
     "text": [
      "Resultados de 2018 a 2019\n"
     ]
    },
    {
     "data": {
      "text/html": [
       "<style type=\"text/css\">\n",
       "</style>\n",
       "<table id=\"T_fc814\">\n",
       "  <thead>\n",
       "    <tr>\n",
       "      <th class=\"blank level0\" >&nbsp;</th>\n",
       "      <th id=\"T_fc814_level0_col0\" class=\"col_heading level0 col0\" >Country</th>\n",
       "      <th id=\"T_fc814_level0_col1\" class=\"col_heading level0 col1\" >Greatest GPD variations</th>\n",
       "      <th id=\"T_fc814_level0_col2\" class=\"col_heading level0 col2\" >Country</th>\n",
       "      <th id=\"T_fc814_level0_col3\" class=\"col_heading level0 col3\" >Lowest GPD variations</th>\n",
       "    </tr>\n",
       "  </thead>\n",
       "  <tbody>\n",
       "    <tr>\n",
       "      <th id=\"T_fc814_level0_row0\" class=\"row_heading level0 row0\" >0</th>\n",
       "      <td id=\"T_fc814_row0_col0\" class=\"data row0 col0\" >United Kingdom</td>\n",
       "      <td id=\"T_fc814_row0_col1\" class=\"data row0 col1\" >0.09</td>\n",
       "      <td id=\"T_fc814_row0_col2\" class=\"data row0 col2\" >United Arab Emirates</td>\n",
       "      <td id=\"T_fc814_row0_col3\" class=\"data row0 col3\" >-0.59</td>\n",
       "    </tr>\n",
       "    <tr>\n",
       "      <th id=\"T_fc814_level0_row1\" class=\"row_heading level0 row1\" >1</th>\n",
       "      <td id=\"T_fc814_row1_col0\" class=\"data row1 col0\" >Malaysia</td>\n",
       "      <td id=\"T_fc814_row1_col1\" class=\"data row1 col1\" >0.06</td>\n",
       "      <td id=\"T_fc814_row1_col2\" class=\"data row1 col2\" >Yemen</td>\n",
       "      <td id=\"T_fc814_row1_col3\" class=\"data row1 col3\" >-0.16</td>\n",
       "    </tr>\n",
       "    <tr>\n",
       "      <th id=\"T_fc814_level0_row2\" class=\"row_heading level0 row2\" >2</th>\n",
       "      <td id=\"T_fc814_row2_col0\" class=\"data row2 col0\" >Libya</td>\n",
       "      <td id=\"T_fc814_row2_col1\" class=\"data row2 col1\" >0.06</td>\n",
       "      <td id=\"T_fc814_row2_col2\" class=\"data row2 col2\" >Syria</td>\n",
       "      <td id=\"T_fc814_row2_col3\" class=\"data row2 col3\" >-0.07</td>\n",
       "    </tr>\n",
       "  </tbody>\n",
       "</table>\n"
      ],
      "text/plain": [
       "<pandas.io.formats.style.Styler at 0x2ca49d7aca0>"
      ]
     },
     "metadata": {},
     "output_type": "display_data"
    }
   ],
   "source": [
    "# Reorganiza-se os dataframes anteriores para melhor apresentação\n",
    "top_3_15_16 = pd.concat([top_3_positivo_15_16.reset_index(),top_3_negativo_15_16.reset_index()],axis=1)\n",
    "top_3_15_16.columns = ['Country','Greatest GPD variations','Country','Lowest GPD variations']\n",
    "print('Resultados de 2015 a 2016')\n",
    "display(top_3_15_16.style.format('{:.2f}', subset=['Greatest GPD variations','Lowest GPD variations']))\n",
    "\n",
    "top_3_16_17 = pd.concat([top_3_positivo_16_17.reset_index(),top_3_negativo_16_17.reset_index()],axis=1)\n",
    "top_3_16_17.columns = ['Country','Greatest GPD variations','Country','Lowest GPD variations']\n",
    "print('Resultados de 2016 a 2017')\n",
    "display(top_3_16_17.style.format('{:.2f}', subset=['Greatest GPD variations','Lowest GPD variations']))\n",
    "\n",
    "top_3_17_18 = pd.concat([top_3_positivo_17_18.reset_index(),top_3_negativo_17_18.reset_index()],axis=1)\n",
    "top_3_17_18.columns = ['Country','Greatest GPD variations','Country','Lowest GPD variations']\n",
    "print('Resultados de 2017 a 2018')\n",
    "display(top_3_17_18.style.format('{:.2f}', subset=['Greatest GPD variations','Lowest GPD variations']))\n",
    "\n",
    "top_3_18_19 = pd.concat([top_3_positivo_18_19.reset_index(),top_3_negativo_18_19.reset_index()],axis=1)\n",
    "top_3_18_19.columns = ['Country','Greatest GPD variations','Country','Lowest GPD variations']\n",
    "print('Resultados de 2018 a 2019')\n",
    "display(top_3_18_19.style.format('{:.2f}', subset=['Greatest GPD variations','Lowest GPD variations']))\n",
    "\n"
   ]
  },
  {
   "cell_type": "code",
   "execution_count": 13,
   "metadata": {},
   "outputs": [
    {
     "data": {
      "text/html": [
       "<style type=\"text/css\">\n",
       "#T_4db39_row0_col0 {\n",
       "  background-color: darkgreen;\n",
       "}\n",
       "#T_4db39_row5_col0 {\n",
       "  background-color: #C26161;\n",
       "}\n",
       "</style>\n",
       "<table id=\"T_4db39\">\n",
       "  <thead>\n",
       "    <tr>\n",
       "      <th class=\"index_name level0\" >Year</th>\n",
       "      <th id=\"T_4db39_level0_col0\" class=\"col_heading level0 col0\" >2019</th>\n",
       "    </tr>\n",
       "    <tr>\n",
       "      <th class=\"index_name level0\" >Country</th>\n",
       "      <th class=\"blank col0\" >&nbsp;</th>\n",
       "    </tr>\n",
       "  </thead>\n",
       "  <tbody>\n",
       "    <tr>\n",
       "      <th id=\"T_4db39_level0_row0\" class=\"row_heading level0 row0\" >Myanmar</th>\n",
       "      <td id=\"T_4db39_row0_col0\" class=\"data row0 col0\" >0.44</td>\n",
       "    </tr>\n",
       "    <tr>\n",
       "      <th id=\"T_4db39_level0_row1\" class=\"row_heading level0 row1\" >Guinea</th>\n",
       "      <td id=\"T_4db39_row1_col0\" class=\"data row1 col0\" >0.21</td>\n",
       "    </tr>\n",
       "    <tr>\n",
       "      <th id=\"T_4db39_level0_row2\" class=\"row_heading level0 row2\" >Tanzania</th>\n",
       "      <td id=\"T_4db39_row2_col0\" class=\"data row2 col0\" >0.19</td>\n",
       "    </tr>\n",
       "    <tr>\n",
       "      <th id=\"T_4db39_level0_row3\" class=\"row_heading level0 row3\" >Venezuela</th>\n",
       "      <td id=\"T_4db39_row3_col0\" class=\"data row3 col0\" >-0.08</td>\n",
       "    </tr>\n",
       "    <tr>\n",
       "      <th id=\"T_4db39_level0_row4\" class=\"row_heading level0 row4\" >Libya</th>\n",
       "      <td id=\"T_4db39_row4_col0\" class=\"data row4 col0\" >-0.09</td>\n",
       "    </tr>\n",
       "    <tr>\n",
       "      <th id=\"T_4db39_level0_row5\" class=\"row_heading level0 row5\" >Yemen</th>\n",
       "      <td id=\"T_4db39_row5_col0\" class=\"data row5 col0\" >-0.26</td>\n",
       "    </tr>\n",
       "  </tbody>\n",
       "</table>\n"
      ],
      "text/plain": [
       "<pandas.io.formats.style.Styler at 0x2ca4a50ec40>"
      ]
     },
     "execution_count": 13,
     "metadata": {},
     "output_type": "execute_result"
    }
   ],
   "source": [
    "# Cálculo da variação do GDP entre 2015 e 2019\n",
    "variacao_GPD = geral_GPD.diff(periods = 4).iloc[4:,:].T\n",
    "variacao_GPD.dropna().sort_values(by = '2019',ascending = False).iloc[[0,1,2,-3,-2,-1]].style.highlight_max(color='darkgreen').highlight_min(color='#C26161').format('{:.2f}')"
   ]
  },
  {
   "cell_type": "markdown",
   "metadata": {},
   "source": [
    "Os top 3 países que mais tiveram mudança positiva e negativa de GPD do ano 2016 para 2017 foram: \\\n",
    "&emsp;Maiores aumentos: Mali, Malawi e Georgia \\\n",
    "&emsp;Menores aumentos ou maiores diminuições: Líbano, Jordânia e Venezuela\n",
    "\n",
    "Também são apresentados os top 3 países de ano a ano nos outros períodos e para a variação de 2015 a 2019."
   ]
  },
  {
   "cell_type": "markdown",
   "metadata": {
    "id": "3wiLhSHNkkEg"
   },
   "source": [
    "### 4. Qual foi o país que mais subiu no ranking no período inteiro analisado, de 2015 para 2019. 📈"
   ]
  },
  {
   "cell_type": "code",
   "execution_count": 14,
   "metadata": {
    "id": "W5JTIGR0koSM"
   },
   "outputs": [
    {
     "name": "stdout",
     "output_type": "stream",
     "text": [
      "País que mais subiu no ranking, considerando os valores de 2015 e 2019:\n"
     ]
    },
    {
     "data": {
      "text/html": [
       "<div>\n",
       "<style scoped>\n",
       "    .dataframe tbody tr th:only-of-type {\n",
       "        vertical-align: middle;\n",
       "    }\n",
       "\n",
       "    .dataframe tbody tr th {\n",
       "        vertical-align: top;\n",
       "    }\n",
       "\n",
       "    .dataframe thead th {\n",
       "        text-align: right;\n",
       "    }\n",
       "</style>\n",
       "<table border=\"1\" class=\"dataframe\">\n",
       "  <thead>\n",
       "    <tr style=\"text-align: right;\">\n",
       "      <th></th>\n",
       "      <th>Country</th>\n",
       "      <th>Happiness Rank 2015</th>\n",
       "      <th>Happiness Rank 2019</th>\n",
       "      <th>Diff</th>\n",
       "    </tr>\n",
       "  </thead>\n",
       "  <tbody>\n",
       "    <tr>\n",
       "      <th>0</th>\n",
       "      <td>Benin</td>\n",
       "      <td>155</td>\n",
       "      <td>102</td>\n",
       "      <td>53</td>\n",
       "    </tr>\n",
       "  </tbody>\n",
       "</table>\n",
       "</div>"
      ],
      "text/plain": [
       "  Country  Happiness Rank 2015  Happiness Rank 2019  Diff\n",
       "0   Benin                  155                  102    53"
      ]
     },
     "metadata": {},
     "output_type": "display_data"
    },
    {
     "name": "stdout",
     "output_type": "stream",
     "text": [
      "País que mais desceu no ranking, considerando os valores de 2015 e 2019:\n"
     ]
    },
    {
     "data": {
      "text/html": [
       "<div>\n",
       "<style scoped>\n",
       "    .dataframe tbody tr th:only-of-type {\n",
       "        vertical-align: middle;\n",
       "    }\n",
       "\n",
       "    .dataframe tbody tr th {\n",
       "        vertical-align: top;\n",
       "    }\n",
       "\n",
       "    .dataframe thead th {\n",
       "        text-align: right;\n",
       "    }\n",
       "</style>\n",
       "<table border=\"1\" class=\"dataframe\">\n",
       "  <thead>\n",
       "    <tr style=\"text-align: right;\">\n",
       "      <th></th>\n",
       "      <th>Country</th>\n",
       "      <th>Happiness Rank 2015</th>\n",
       "      <th>Happiness Rank 2019</th>\n",
       "      <th>Diff</th>\n",
       "    </tr>\n",
       "  </thead>\n",
       "  <tbody>\n",
       "    <tr>\n",
       "      <th>0</th>\n",
       "      <td>Venezuela</td>\n",
       "      <td>23</td>\n",
       "      <td>108</td>\n",
       "      <td>-85</td>\n",
       "    </tr>\n",
       "  </tbody>\n",
       "</table>\n",
       "</div>"
      ],
      "text/plain": [
       "     Country  Happiness Rank 2015  Happiness Rank 2019  Diff\n",
       "0  Venezuela                   23                  108   -85"
      ]
     },
     "metadata": {},
     "output_type": "display_data"
    }
   ],
   "source": [
    "# Cria-se dataframes com as informações de interesse e padronima os nomes das colunas\n",
    "ranking_2015 = df_2015[['Country','Happiness Rank']]\n",
    "ranking_2019 = df_2019[['Country or region','Overall rank']]\n",
    "ranking_2015.columns = ['Country','Happiness Rank 2015']\n",
    "ranking_2019.columns = ['Country','Happiness Rank 2019']\n",
    "\n",
    "# Une-se os dataframes para calcular as diferenças de ranking e filtra-se os primeiros colocados\n",
    "ranking_2015_2019 = pd.merge(left = ranking_2015, right = ranking_2019, left_on = 'Country' , right_on = 'Country')\n",
    "ranking_2015_2019['Diff'] = ranking_2015_2019['Happiness Rank 2015'] - ranking_2015_2019['Happiness Rank 2019']\n",
    "melhor_resultado_ranking = ranking_2015_2019.nlargest(1, 'Diff').reset_index(drop=True)\n",
    "pior_resultado_ranking = ranking_2015_2019.nsmallest(1, 'Diff').reset_index(drop=True)\n",
    "print('País que mais subiu no ranking, considerando os valores de 2015 e 2019:')\n",
    "display(melhor_resultado_ranking)\n",
    "print('País que mais desceu no ranking, considerando os valores de 2015 e 2019:')\n",
    "display(pior_resultado_ranking)"
   ]
  },
  {
   "cell_type": "markdown",
   "metadata": {},
   "source": [
    "&emsp;O pais que mais subiu no ranking no período inteiro analisado (de 2015 para 2019) foi Benin, o qual subiu 53 posições. Já a Venezuela foi o país que mais desceu nesse mesmo período, tendo caído 85 posições."
   ]
  },
  {
   "cell_type": "markdown",
   "metadata": {
    "id": "_aOgKp2YkoxQ"
   },
   "source": [
    "### 5. Teve países que saíram ou entraram do index. ❓"
   ]
  },
  {
   "cell_type": "code",
   "execution_count": 15,
   "metadata": {
    "id": "7s9dOuIMkszi"
   },
   "outputs": [
    {
     "data": {
      "text/html": [
       "<div>\n",
       "<style scoped>\n",
       "    .dataframe tbody tr th:only-of-type {\n",
       "        vertical-align: middle;\n",
       "    }\n",
       "\n",
       "    .dataframe tbody tr th {\n",
       "        vertical-align: top;\n",
       "    }\n",
       "\n",
       "    .dataframe thead th {\n",
       "        text-align: right;\n",
       "    }\n",
       "</style>\n",
       "<table border=\"1\" class=\"dataframe\">\n",
       "  <thead>\n",
       "    <tr style=\"text-align: right;\">\n",
       "      <th></th>\n",
       "      <th>Country</th>\n",
       "    </tr>\n",
       "  </thead>\n",
       "  <tbody>\n",
       "    <tr>\n",
       "      <th>Laos</th>\n",
       "      <td>4.0</td>\n",
       "    </tr>\n",
       "    <tr>\n",
       "      <th>Sudan</th>\n",
       "      <td>4.0</td>\n",
       "    </tr>\n",
       "    <tr>\n",
       "      <th>South Sudan</th>\n",
       "      <td>4.0</td>\n",
       "    </tr>\n",
       "    <tr>\n",
       "      <th>Central African Republic</th>\n",
       "      <td>4.0</td>\n",
       "    </tr>\n",
       "    <tr>\n",
       "      <th>Lesotho</th>\n",
       "      <td>4.0</td>\n",
       "    </tr>\n",
       "    <tr>\n",
       "      <th>Mozambique</th>\n",
       "      <td>4.0</td>\n",
       "    </tr>\n",
       "    <tr>\n",
       "      <th>Namibia</th>\n",
       "      <td>4.0</td>\n",
       "    </tr>\n",
       "    <tr>\n",
       "      <th>Angola</th>\n",
       "      <td>4.0</td>\n",
       "    </tr>\n",
       "    <tr>\n",
       "      <th>Somalia</th>\n",
       "      <td>4.0</td>\n",
       "    </tr>\n",
       "    <tr>\n",
       "      <th>Belize</th>\n",
       "      <td>3.0</td>\n",
       "    </tr>\n",
       "    <tr>\n",
       "      <th>Comoros</th>\n",
       "      <td>3.0</td>\n",
       "    </tr>\n",
       "    <tr>\n",
       "      <th>Somaliland Region</th>\n",
       "      <td>2.0</td>\n",
       "    </tr>\n",
       "    <tr>\n",
       "      <th>Suriname</th>\n",
       "      <td>2.0</td>\n",
       "    </tr>\n",
       "    <tr>\n",
       "      <th>Swaziland</th>\n",
       "      <td>2.0</td>\n",
       "    </tr>\n",
       "    <tr>\n",
       "      <th>Puerto Rico</th>\n",
       "      <td>1.0</td>\n",
       "    </tr>\n",
       "    <tr>\n",
       "      <th>Oman</th>\n",
       "      <td>1.0</td>\n",
       "    </tr>\n",
       "    <tr>\n",
       "      <th>Djibouti</th>\n",
       "      <td>1.0</td>\n",
       "    </tr>\n",
       "    <tr>\n",
       "      <th>Gambia</th>\n",
       "      <td>1.0</td>\n",
       "    </tr>\n",
       "  </tbody>\n",
       "</table>\n",
       "</div>"
      ],
      "text/plain": [
       "                          Country\n",
       "Laos                          4.0\n",
       "Sudan                         4.0\n",
       "South Sudan                   4.0\n",
       "Central African Republic      4.0\n",
       "Lesotho                       4.0\n",
       "Mozambique                    4.0\n",
       "Namibia                       4.0\n",
       "Angola                        4.0\n",
       "Somalia                       4.0\n",
       "Belize                        3.0\n",
       "Comoros                       3.0\n",
       "Somaliland Region             2.0\n",
       "Suriname                      2.0\n",
       "Swaziland                     2.0\n",
       "Puerto Rico                   1.0\n",
       "Oman                          1.0\n",
       "Djibouti                      1.0\n",
       "Gambia                        1.0"
      ]
     },
     "execution_count": 15,
     "metadata": {},
     "output_type": "execute_result"
    }
   ],
   "source": [
    "# Cria-se um datafram com a variável de interesse e apresenta-se os países que tiveram menos de 5 aparições,\n",
    "# já que essa é a frequência máxima de aparição\n",
    "entraram_ou_sairam = df_5_anos['Country'].value_counts()\n",
    "pd.DataFrame(entraram_ou_sairam.where(entraram_ou_sairam < 5).dropna())"
   ]
  },
  {
   "cell_type": "markdown",
   "metadata": {},
   "source": [
    "&emsp;Como um país pode ter no máximo 5 aparições no banco de dados geral, apresentamos aqueles que possuíam exatamente ou menos que 4 aparições para determinar os países que saíram ou entraram no ranking. Dessa forma, foi possível observar que 18 países entraram ou saíram do ranking entre 2015 e 2019. Ressaltamos aqui que a correção dos nomes, feita em etapa anterior, é necessária para uma avaliação correta dos países aqui mostrados."
   ]
  },
  {
   "cell_type": "markdown",
   "metadata": {
    "id": "C3JuKe6Mk2Vk"
   },
   "source": [
    "### 6. Quais foram os 3 países que mais tiveram mudança na expectativa de vida (positiva e negativa) de 2017 para 2018. ✅❌"
   ]
  },
  {
   "cell_type": "code",
   "execution_count": 16,
   "metadata": {
    "id": "wRhfoVzyk6lK"
   },
   "outputs": [],
   "source": [
    "# Criando outro dataframe com as variáveis de interesse e na ordem adequada\n",
    "geral_LifeExpectancy = df_5_anos.pivot_table(\n",
    "    values = 'Health (Life Expectancy)',\n",
    "    index = ['Year'],\n",
    "    columns = ['Country'],\n",
    "    fill_value = np.nan,\n",
    "    dropna = False,\n",
    "    aggfunc = 'mean'\n",
    ")"
   ]
  },
  {
   "cell_type": "code",
   "execution_count": 17,
   "metadata": {},
   "outputs": [
    {
     "name": "stdout",
     "output_type": "stream",
     "text": [
      "Resultados de 2015 a 2016\n"
     ]
    },
    {
     "data": {
      "text/html": [
       "<style type=\"text/css\">\n",
       "</style>\n",
       "<table id=\"T_bc632\">\n",
       "  <thead>\n",
       "    <tr>\n",
       "      <th class=\"blank level0\" >&nbsp;</th>\n",
       "      <th id=\"T_bc632_level0_col0\" class=\"col_heading level0 col0\" >Country</th>\n",
       "      <th id=\"T_bc632_level0_col1\" class=\"col_heading level0 col1\" >Greatest life expectancy variations</th>\n",
       "      <th id=\"T_bc632_level0_col2\" class=\"col_heading level0 col2\" >Country</th>\n",
       "      <th id=\"T_bc632_level0_col3\" class=\"col_heading level0 col3\" >Lowest life expectancy variations</th>\n",
       "    </tr>\n",
       "  </thead>\n",
       "  <tbody>\n",
       "    <tr>\n",
       "      <th id=\"T_bc632_level0_row0\" class=\"row_heading level0 row0\" >0</th>\n",
       "      <td id=\"T_bc632_row0_col0\" class=\"data row0 col0\" >Botswana</td>\n",
       "      <td id=\"T_bc632_row0_col1\" class=\"data row0 col1\" >0.30</td>\n",
       "      <td id=\"T_bc632_row0_col2\" class=\"data row0 col2\" >Cambodia</td>\n",
       "      <td id=\"T_bc632_row0_col3\" class=\"data row0 col3\" >-0.19</td>\n",
       "    </tr>\n",
       "    <tr>\n",
       "      <th id=\"T_bc632_level0_row1\" class=\"row_heading level0 row1\" >1</th>\n",
       "      <td id=\"T_bc632_row1_col0\" class=\"data row1 col0\" >Congo (Kinshasa)</td>\n",
       "      <td id=\"T_bc632_row1_col1\" class=\"data row1 col1\" >0.09</td>\n",
       "      <td id=\"T_bc632_row1_col2\" class=\"data row1 col2\" >Libya</td>\n",
       "      <td id=\"T_bc632_row1_col3\" class=\"data row1 col3\" >-0.18</td>\n",
       "    </tr>\n",
       "    <tr>\n",
       "      <th id=\"T_bc632_level0_row2\" class=\"row_heading level0 row2\" >2</th>\n",
       "      <td id=\"T_bc632_row2_col0\" class=\"data row2 col0\" >Malawi</td>\n",
       "      <td id=\"T_bc632_row2_col1\" class=\"data row2 col1\" >0.07</td>\n",
       "      <td id=\"T_bc632_row2_col2\" class=\"data row2 col2\" >Zimbabwe</td>\n",
       "      <td id=\"T_bc632_row2_col3\" class=\"data row2 col3\" >-0.18</td>\n",
       "    </tr>\n",
       "  </tbody>\n",
       "</table>\n"
      ],
      "text/plain": [
       "<pandas.io.formats.style.Styler at 0x2ca49dd06a0>"
      ]
     },
     "metadata": {},
     "output_type": "display_data"
    },
    {
     "name": "stdout",
     "output_type": "stream",
     "text": [
      "Resultados de 2016 a 2017\n"
     ]
    },
    {
     "data": {
      "text/html": [
       "<style type=\"text/css\">\n",
       "</style>\n",
       "<table id=\"T_57d71\">\n",
       "  <thead>\n",
       "    <tr>\n",
       "      <th class=\"blank level0\" >&nbsp;</th>\n",
       "      <th id=\"T_57d71_level0_col0\" class=\"col_heading level0 col0\" >Country</th>\n",
       "      <th id=\"T_57d71_level0_col1\" class=\"col_heading level0 col1\" >Greatest life expectancy variations</th>\n",
       "      <th id=\"T_57d71_level0_col2\" class=\"col_heading level0 col2\" >Country</th>\n",
       "      <th id=\"T_57d71_level0_col3\" class=\"col_heading level0 col3\" >Lowest life expectancy variations</th>\n",
       "    </tr>\n",
       "  </thead>\n",
       "  <tbody>\n",
       "    <tr>\n",
       "      <th id=\"T_57d71_level0_row0\" class=\"row_heading level0 row0\" >0</th>\n",
       "      <td id=\"T_57d71_row0_col0\" class=\"data row0 col0\" >Moldova</td>\n",
       "      <td id=\"T_57d71_row0_col1\" class=\"data row0 col1\" >0.07</td>\n",
       "      <td id=\"T_57d71_row0_col2\" class=\"data row0 col2\" >Syria</td>\n",
       "      <td id=\"T_57d71_row0_col3\" class=\"data row0 col3\" >-0.13</td>\n",
       "    </tr>\n",
       "    <tr>\n",
       "      <th id=\"T_57d71_level0_row1\" class=\"row_heading level0 row1\" >1</th>\n",
       "      <td id=\"T_57d71_row1_col0\" class=\"data row1 col0\" >Jamaica</td>\n",
       "      <td id=\"T_57d71_row1_col1\" class=\"data row1 col1\" >0.05</td>\n",
       "      <td id=\"T_57d71_row1_col2\" class=\"data row1 col2\" >Russia</td>\n",
       "      <td id=\"T_57d71_row1_col3\" class=\"data row1 col3\" >-0.04</td>\n",
       "    </tr>\n",
       "    <tr>\n",
       "      <th id=\"T_57d71_level0_row2\" class=\"row_heading level0 row2\" >2</th>\n",
       "      <td id=\"T_57d71_row2_col0\" class=\"data row2 col0\" >Zimbabwe</td>\n",
       "      <td id=\"T_57d71_row2_col1\" class=\"data row2 col1\" >0.04</td>\n",
       "      <td id=\"T_57d71_row2_col2\" class=\"data row2 col2\" >Iceland</td>\n",
       "      <td id=\"T_57d71_row2_col3\" class=\"data row2 col3\" >-0.03</td>\n",
       "    </tr>\n",
       "  </tbody>\n",
       "</table>\n"
      ],
      "text/plain": [
       "<pandas.io.formats.style.Styler at 0x2ca49dd06a0>"
      ]
     },
     "metadata": {},
     "output_type": "display_data"
    },
    {
     "name": "stdout",
     "output_type": "stream",
     "text": [
      "Resultados de 2017 a 2018\n"
     ]
    },
    {
     "data": {
      "text/html": [
       "<style type=\"text/css\">\n",
       "</style>\n",
       "<table id=\"T_70331\">\n",
       "  <thead>\n",
       "    <tr>\n",
       "      <th class=\"blank level0\" >&nbsp;</th>\n",
       "      <th id=\"T_70331_level0_col0\" class=\"col_heading level0 col0\" >Country</th>\n",
       "      <th id=\"T_70331_level0_col1\" class=\"col_heading level0 col1\" >Greatest life expectancy variations</th>\n",
       "      <th id=\"T_70331_level0_col2\" class=\"col_heading level0 col2\" >Country</th>\n",
       "      <th id=\"T_70331_level0_col3\" class=\"col_heading level0 col3\" >Lowest life expectancy variations</th>\n",
       "    </tr>\n",
       "  </thead>\n",
       "  <tbody>\n",
       "    <tr>\n",
       "      <th id=\"T_70331_level0_row0\" class=\"row_heading level0 row0\" >0</th>\n",
       "      <td id=\"T_70331_row0_col0\" class=\"data row0 col0\" >Angola</td>\n",
       "      <td id=\"T_70331_row0_col1\" class=\"data row0 col1\" >0.22</td>\n",
       "      <td id=\"T_70331_row0_col2\" class=\"data row0 col2\" >United Arab Emirates</td>\n",
       "      <td id=\"T_70331_row0_col3\" class=\"data row0 col3\" >-0.06</td>\n",
       "    </tr>\n",
       "    <tr>\n",
       "      <th id=\"T_70331_level0_row1\" class=\"row_heading level0 row1\" >1</th>\n",
       "      <td id=\"T_70331_row1_col0\" class=\"data row1 col0\" >Kenya</td>\n",
       "      <td id=\"T_70331_row1_col1\" class=\"data row1 col1\" >0.14</td>\n",
       "      <td id=\"T_70331_row1_col2\" class=\"data row1 col2\" >Niger</td>\n",
       "      <td id=\"T_70331_row1_col3\" class=\"data row1 col3\" >-0.05</td>\n",
       "    </tr>\n",
       "    <tr>\n",
       "      <th id=\"T_70331_level0_row2\" class=\"row_heading level0 row2\" >2</th>\n",
       "      <td id=\"T_70331_row2_col0\" class=\"data row2 col0\" >South Africa</td>\n",
       "      <td id=\"T_70331_row2_col1\" class=\"data row2 col1\" >0.14</td>\n",
       "      <td id=\"T_70331_row2_col2\" class=\"data row2 col2\" >Mali</td>\n",
       "      <td id=\"T_70331_row2_col3\" class=\"data row2 col3\" >-0.02</td>\n",
       "    </tr>\n",
       "  </tbody>\n",
       "</table>\n"
      ],
      "text/plain": [
       "<pandas.io.formats.style.Styler at 0x2ca49dd06a0>"
      ]
     },
     "metadata": {},
     "output_type": "display_data"
    },
    {
     "name": "stdout",
     "output_type": "stream",
     "text": [
      "Resultados de 2018 a 2019\n"
     ]
    },
    {
     "data": {
      "text/html": [
       "<style type=\"text/css\">\n",
       "</style>\n",
       "<table id=\"T_ce1ab\">\n",
       "  <thead>\n",
       "    <tr>\n",
       "      <th class=\"blank level0\" >&nbsp;</th>\n",
       "      <th id=\"T_ce1ab_level0_col0\" class=\"col_heading level0 col0\" >Country</th>\n",
       "      <th id=\"T_ce1ab_level0_col1\" class=\"col_heading level0 col1\" >Greatest life expectancy variations</th>\n",
       "      <th id=\"T_ce1ab_level0_col2\" class=\"col_heading level0 col2\" >Country</th>\n",
       "      <th id=\"T_ce1ab_level0_col3\" class=\"col_heading level0 col3\" >Lowest life expectancy variations</th>\n",
       "    </tr>\n",
       "  </thead>\n",
       "  <tbody>\n",
       "    <tr>\n",
       "      <th id=\"T_ce1ab_level0_row0\" class=\"row_heading level0 row0\" >0</th>\n",
       "      <td id=\"T_ce1ab_row0_col0\" class=\"data row0 col0\" >Sierra Leone</td>\n",
       "      <td id=\"T_ce1ab_row0_col1\" class=\"data row0 col1\" >0.24</td>\n",
       "      <td id=\"T_ce1ab_row0_col2\" class=\"data row0 col2\" >Syria</td>\n",
       "      <td id=\"T_ce1ab_row0_col3\" class=\"data row0 col3\" >-0.10</td>\n",
       "    </tr>\n",
       "    <tr>\n",
       "      <th id=\"T_ce1ab_level0_row1\" class=\"row_heading level0 row1\" >1</th>\n",
       "      <td id=\"T_ce1ab_row1_col0\" class=\"data row1 col0\" >Burundi</td>\n",
       "      <td id=\"T_ce1ab_row1_col1\" class=\"data row1 col1\" >0.24</td>\n",
       "      <td id=\"T_ce1ab_row1_col2\" class=\"data row1 col2\" >Lebanon</td>\n",
       "      <td id=\"T_ce1ab_row1_col3\" class=\"data row1 col3\" >0.03</td>\n",
       "    </tr>\n",
       "    <tr>\n",
       "      <th id=\"T_ce1ab_level0_row2\" class=\"row_heading level0 row2\" >2</th>\n",
       "      <td id=\"T_ce1ab_row2_col0\" class=\"data row2 col0\" >Mozambique</td>\n",
       "      <td id=\"T_ce1ab_row2_col1\" class=\"data row2 col1\" >0.22</td>\n",
       "      <td id=\"T_ce1ab_row2_col2\" class=\"data row2 col2\" >Iraq</td>\n",
       "      <td id=\"T_ce1ab_row2_col3\" class=\"data row2 col3\" >0.04</td>\n",
       "    </tr>\n",
       "  </tbody>\n",
       "</table>\n"
      ],
      "text/plain": [
       "<pandas.io.formats.style.Styler at 0x2ca49dd06a0>"
      ]
     },
     "metadata": {},
     "output_type": "display_data"
    }
   ],
   "source": [
    "# Cria-se diversos dataframes com os top 3 positivo e negativo\n",
    "variacao_LifeExpectancy = geral_LifeExpectancy.diff().iloc[1:,:].T\n",
    "top_3_positivo_15_16 = variacao_LifeExpectancy['2016'].nlargest(3)\n",
    "top_3_negativo_15_16 = variacao_LifeExpectancy['2016'].nsmallest(3)\n",
    "top_3_positivo_16_17 = variacao_LifeExpectancy['2017'].nlargest(3)\n",
    "top_3_negativo_16_17 = variacao_LifeExpectancy['2017'].nsmallest(3)\n",
    "top_3_positivo_17_18 = variacao_LifeExpectancy['2018'].nlargest(3)\n",
    "top_3_negativo_17_18 = variacao_LifeExpectancy['2018'].nsmallest(3)\n",
    "top_3_positivo_18_19 = variacao_LifeExpectancy['2019'].nlargest(3)\n",
    "top_3_negativo_18_19 = variacao_LifeExpectancy['2019'].nsmallest(3)\n",
    "\n",
    "# Reorganiza-se os dataframes anteriores para melhor apresentação\n",
    "top_3_15_16 = pd.concat([top_3_positivo_15_16.reset_index(),top_3_negativo_15_16.reset_index()],axis=1)\n",
    "top_3_15_16.columns = ['Country',f'Greatest life expectancy variations','Country','Lowest life expectancy variations']\n",
    "print('Resultados de 2015 a 2016')\n",
    "display(top_3_15_16.style.format('{:.2f}', subset=['Greatest life expectancy variations','Lowest life expectancy variations']))\n",
    "\n",
    "top_3_16_17 = pd.concat([top_3_positivo_16_17.reset_index(),top_3_negativo_16_17.reset_index()],axis=1)\n",
    "top_3_16_17.columns = ['Country',f'Greatest life expectancy variations','Country','Lowest life expectancy variations']\n",
    "print('Resultados de 2016 a 2017')\n",
    "display(top_3_16_17.style.format('{:.2f}', subset=['Greatest life expectancy variations','Lowest life expectancy variations']))\n",
    "\n",
    "top_3_17_18 = pd.concat([top_3_positivo_17_18.reset_index(),top_3_negativo_17_18.reset_index()],axis=1)\n",
    "top_3_17_18.columns = ['Country',f'Greatest life expectancy variations','Country','Lowest life expectancy variations']\n",
    "print('Resultados de 2017 a 2018')\n",
    "display(top_3_17_18.style.format('{:.2f}', subset=['Greatest life expectancy variations','Lowest life expectancy variations']))\n",
    "\n",
    "top_3_18_19 = pd.concat([top_3_positivo_18_19.reset_index(),top_3_negativo_18_19.reset_index()],axis=1)\n",
    "top_3_18_19.columns = ['Country',f'Greatest life expectancy variations','Country','Lowest life expectancy variations']\n",
    "print('Resultados de 2018 a 2019')\n",
    "display(top_3_18_19.style.format('{:.2f}', subset=['Greatest life expectancy variations','Lowest life expectancy variations']))"
   ]
  },
  {
   "cell_type": "code",
   "execution_count": 18,
   "metadata": {},
   "outputs": [
    {
     "data": {
      "text/html": [
       "<style type=\"text/css\">\n",
       "#T_81e92_row0_col0 {\n",
       "  background-color: darkgreen;\n",
       "}\n",
       "#T_81e92_row5_col0 {\n",
       "  background-color: #C26161;\n",
       "}\n",
       "</style>\n",
       "<table id=\"T_81e92\">\n",
       "  <thead>\n",
       "    <tr>\n",
       "      <th class=\"index_name level0\" >Year</th>\n",
       "      <th id=\"T_81e92_level0_col0\" class=\"col_heading level0 col0\" >2019</th>\n",
       "    </tr>\n",
       "    <tr>\n",
       "      <th class=\"index_name level0\" >Country</th>\n",
       "      <th class=\"blank col0\" >&nbsp;</th>\n",
       "    </tr>\n",
       "  </thead>\n",
       "  <tbody>\n",
       "    <tr>\n",
       "      <th id=\"T_81e92_level0_row0\" class=\"row_heading level0 row0\" >Botswana</th>\n",
       "      <td id=\"T_81e92_row0_col0\" class=\"data row0 col0\" >0.49</td>\n",
       "    </tr>\n",
       "    <tr>\n",
       "      <th id=\"T_81e92_level0_row1\" class=\"row_heading level0 row1\" >Mozambique</th>\n",
       "      <td id=\"T_81e92_row1_col0\" class=\"data row1 col0\" >0.30</td>\n",
       "    </tr>\n",
       "    <tr>\n",
       "      <th id=\"T_81e92_level0_row2\" class=\"row_heading level0 row2\" >Malawi</th>\n",
       "      <td id=\"T_81e92_row2_col0\" class=\"data row2 col0\" >0.27</td>\n",
       "    </tr>\n",
       "    <tr>\n",
       "      <th id=\"T_81e92_level0_row3\" class=\"row_heading level0 row3\" >Libya</th>\n",
       "      <td id=\"T_81e92_row3_col0\" class=\"data row3 col0\" >-0.03</td>\n",
       "    </tr>\n",
       "    <tr>\n",
       "      <th id=\"T_81e92_level0_row4\" class=\"row_heading level0 row4\" >Swaziland</th>\n",
       "      <td id=\"T_81e92_row4_col0\" class=\"data row4 col0\" >-0.08</td>\n",
       "    </tr>\n",
       "    <tr>\n",
       "      <th id=\"T_81e92_level0_row5\" class=\"row_heading level0 row5\" >Syria</th>\n",
       "      <td id=\"T_81e92_row5_col0\" class=\"data row5 col0\" >-0.28</td>\n",
       "    </tr>\n",
       "  </tbody>\n",
       "</table>\n"
      ],
      "text/plain": [
       "<pandas.io.formats.style.Styler at 0x2ca49dd0580>"
      ]
     },
     "execution_count": 18,
     "metadata": {},
     "output_type": "execute_result"
    }
   ],
   "source": [
    "# Cálculo da variação do GDP entre 2015 e 2019\n",
    "variacao_LifeExpectancy = geral_LifeExpectancy.diff(periods = 4).iloc[4:,:].T\n",
    "variacao_LifeExpectancy.dropna().sort_values(by = '2019',ascending = False).iloc[[0,1,2,-3,-2,-1]].style.highlight_max(color='darkgreen').highlight_min(color='#C26161').format('{:.2f}')"
   ]
  },
  {
   "cell_type": "markdown",
   "metadata": {},
   "source": [
    "Os top 3 países que mais tiveram mudança positiva e negativa na expectativa de vida do ano 2017 para 2018 foram: \\\n",
    "&emsp;Maiores aumentos: Angola, Kenya e África do Sul \\\n",
    "&emsp;Menores aumentos ou maiores diminuições: Emirados Árabes Unidos, Nigéria e Mali\n",
    "\n",
    "Também são apresentados os top 3 países de ano a ano nos outros períodos e para a variação de 2015 a 2019."
   ]
  },
  {
   "cell_type": "markdown",
   "metadata": {
    "id": "_bF8bYf_k7kQ"
   },
   "source": [
    "### 7. Até 2 questões extras que vocês acham interessante analisar."
   ]
  },
  {
   "cell_type": "markdown",
   "metadata": {},
   "source": [
    "#### 7.1. Quais são os indicadores que mais influenciam no índice de felicidade?"
   ]
  },
  {
   "cell_type": "code",
   "execution_count": 19,
   "metadata": {
    "id": "8MgJXMDKlAT5"
   },
   "outputs": [
    {
     "data": {
      "text/html": [
       "<style type=\"text/css\">\n",
       "#T_97e54_row0_col0 {\n",
       "  background-color: darkgreen;\n",
       "}\n",
       "#T_97e54_row5_col0 {\n",
       "  background-color: #C26161;\n",
       "}\n",
       "</style>\n",
       "<table id=\"T_97e54\">\n",
       "  <thead>\n",
       "    <tr>\n",
       "      <th class=\"blank level0\" >&nbsp;</th>\n",
       "      <th id=\"T_97e54_level0_col0\" class=\"col_heading level0 col0\" >Happiness Score</th>\n",
       "    </tr>\n",
       "  </thead>\n",
       "  <tbody>\n",
       "    <tr>\n",
       "      <th id=\"T_97e54_level0_row0\" class=\"row_heading level0 row0\" >Economy (GDP per Capita)</th>\n",
       "      <td id=\"T_97e54_row0_col0\" class=\"data row0 col0\" >0.79</td>\n",
       "    </tr>\n",
       "    <tr>\n",
       "      <th id=\"T_97e54_level0_row1\" class=\"row_heading level0 row1\" >Health (Life Expectancy)</th>\n",
       "      <td id=\"T_97e54_row1_col0\" class=\"data row1 col0\" >0.74</td>\n",
       "    </tr>\n",
       "    <tr>\n",
       "      <th id=\"T_97e54_level0_row2\" class=\"row_heading level0 row2\" >Family</th>\n",
       "      <td id=\"T_97e54_row2_col0\" class=\"data row2 col0\" >0.65</td>\n",
       "    </tr>\n",
       "    <tr>\n",
       "      <th id=\"T_97e54_level0_row3\" class=\"row_heading level0 row3\" >Freedom</th>\n",
       "      <td id=\"T_97e54_row3_col0\" class=\"data row3 col0\" >0.55</td>\n",
       "    </tr>\n",
       "    <tr>\n",
       "      <th id=\"T_97e54_level0_row4\" class=\"row_heading level0 row4\" >Trust (Government Corruption)</th>\n",
       "      <td id=\"T_97e54_row4_col0\" class=\"data row4 col0\" >0.40</td>\n",
       "    </tr>\n",
       "    <tr>\n",
       "      <th id=\"T_97e54_level0_row5\" class=\"row_heading level0 row5\" >Generosity</th>\n",
       "      <td id=\"T_97e54_row5_col0\" class=\"data row5 col0\" >0.14</td>\n",
       "    </tr>\n",
       "  </tbody>\n",
       "</table>\n"
      ],
      "text/plain": [
       "<pandas.io.formats.style.Styler at 0x2ca49dbdb80>"
      ]
     },
     "execution_count": 19,
     "metadata": {},
     "output_type": "execute_result"
    }
   ],
   "source": [
    "# Calcula-se a correlação das variáveis com o Índice de Felicidade presentes em um dataframe criado anteriormente \n",
    "pd.DataFrame(df_5_anos.corr()['Happiness Score']).sort_values('Happiness Score', ascending = False).iloc[1:].style.highlight_max(color='darkgreen').highlight_min(color='#C26161').format('{:.2f}')"
   ]
  },
  {
   "cell_type": "markdown",
   "metadata": {},
   "source": [
    "&emsp;As correlações entre as variáveis e o Índice de Felicidade no período de 2015 a 2019 são apresentadas na tabela acima, em que é possível observar que o GDP (economia) é o fator que mais se correlaciona com o Índice de Felicidade, ou seja, aparentemente, é o parâmetro que mais influencia na felicidade da população. Já a generosidade foi o parâmetro com menor correlação com o o Índice de Felicidade."
   ]
  },
  {
   "cell_type": "markdown",
   "metadata": {},
   "source": [
    "#### 7.1. Quais são as regiões que possuem o maior Índice de Felicidade em todo o período analisado?"
   ]
  },
  {
   "cell_type": "code",
   "execution_count": 20,
   "metadata": {},
   "outputs": [
    {
     "data": {
      "text/html": [
       "<style type=\"text/css\">\n",
       "#T_8efc5_row0_col0, #T_8efc5_row0_col2, #T_8efc5_row0_col3, #T_8efc5_row0_col4, #T_8efc5_row0_col5, #T_8efc5_row0_col6, #T_8efc5_row1_col1 {\n",
       "  background-color: darkgreen;\n",
       "}\n",
       "#T_8efc5_row5_col5, #T_8efc5_row5_col6, #T_8efc5_row7_col4, #T_8efc5_row8_col2, #T_8efc5_row9_col0, #T_8efc5_row9_col1, #T_8efc5_row9_col3 {\n",
       "  background-color: #C26161;\n",
       "}\n",
       "</style>\n",
       "<table id=\"T_8efc5\">\n",
       "  <thead>\n",
       "    <tr>\n",
       "      <th class=\"blank level0\" >&nbsp;</th>\n",
       "      <th id=\"T_8efc5_level0_col0\" class=\"col_heading level0 col0\" >Happiness Score</th>\n",
       "      <th id=\"T_8efc5_level0_col1\" class=\"col_heading level0 col1\" >Economy (GDP per Capita)</th>\n",
       "      <th id=\"T_8efc5_level0_col2\" class=\"col_heading level0 col2\" >Family</th>\n",
       "      <th id=\"T_8efc5_level0_col3\" class=\"col_heading level0 col3\" >Health (Life Expectancy)</th>\n",
       "      <th id=\"T_8efc5_level0_col4\" class=\"col_heading level0 col4\" >Freedom</th>\n",
       "      <th id=\"T_8efc5_level0_col5\" class=\"col_heading level0 col5\" >Trust (Government Corruption)</th>\n",
       "      <th id=\"T_8efc5_level0_col6\" class=\"col_heading level0 col6\" >Generosity</th>\n",
       "    </tr>\n",
       "    <tr>\n",
       "      <th class=\"index_name level0\" >Region</th>\n",
       "      <th class=\"blank col0\" >&nbsp;</th>\n",
       "      <th class=\"blank col1\" >&nbsp;</th>\n",
       "      <th class=\"blank col2\" >&nbsp;</th>\n",
       "      <th class=\"blank col3\" >&nbsp;</th>\n",
       "      <th class=\"blank col4\" >&nbsp;</th>\n",
       "      <th class=\"blank col5\" >&nbsp;</th>\n",
       "      <th class=\"blank col6\" >&nbsp;</th>\n",
       "    </tr>\n",
       "  </thead>\n",
       "  <tbody>\n",
       "    <tr>\n",
       "      <th id=\"T_8efc5_level0_row0\" class=\"row_heading level0 row0\" >Australia and New Zealand</th>\n",
       "      <td id=\"T_8efc5_row0_col0\" class=\"data row0 col0\" >7.29</td>\n",
       "      <td id=\"T_8efc5_row0_col1\" class=\"data row0 col1\" >1.36</td>\n",
       "      <td id=\"T_8efc5_row0_col2\" class=\"data row0 col2\" >1.42</td>\n",
       "      <td id=\"T_8efc5_row0_col3\" class=\"data row0 col3\" >0.90</td>\n",
       "      <td id=\"T_8efc5_row0_col4\" class=\"data row0 col4\" >0.61</td>\n",
       "      <td id=\"T_8efc5_row0_col5\" class=\"data row0 col5\" >0.36</td>\n",
       "      <td id=\"T_8efc5_row0_col6\" class=\"data row0 col6\" >0.42</td>\n",
       "    </tr>\n",
       "    <tr>\n",
       "      <th id=\"T_8efc5_level0_row1\" class=\"row_heading level0 row1\" >North America</th>\n",
       "      <td id=\"T_8efc5_row1_col0\" class=\"data row1 col0\" >7.17</td>\n",
       "      <td id=\"T_8efc5_row1_col1\" class=\"data row1 col1\" >1.42</td>\n",
       "      <td id=\"T_8efc5_row1_col2\" class=\"data row1 col2\" >1.36</td>\n",
       "      <td id=\"T_8efc5_row1_col3\" class=\"data row1 col3\" >0.86</td>\n",
       "      <td id=\"T_8efc5_row1_col4\" class=\"data row1 col4\" >0.56</td>\n",
       "      <td id=\"T_8efc5_row1_col5\" class=\"data row1 col5\" >0.22</td>\n",
       "      <td id=\"T_8efc5_row1_col6\" class=\"data row1 col6\" >0.37</td>\n",
       "    </tr>\n",
       "    <tr>\n",
       "      <th id=\"T_8efc5_level0_row2\" class=\"row_heading level0 row2\" >Western Europe</th>\n",
       "      <td id=\"T_8efc5_row2_col0\" class=\"data row2 col0\" >6.79</td>\n",
       "      <td id=\"T_8efc5_row2_col1\" class=\"data row2 col1\" >1.38</td>\n",
       "      <td id=\"T_8efc5_row2_col2\" class=\"data row2 col2\" >1.35</td>\n",
       "      <td id=\"T_8efc5_row2_col3\" class=\"data row2 col3\" >0.89</td>\n",
       "      <td id=\"T_8efc5_row2_col4\" class=\"data row2 col4\" >0.52</td>\n",
       "      <td id=\"T_8efc5_row2_col5\" class=\"data row2 col5\" >0.23</td>\n",
       "      <td id=\"T_8efc5_row2_col6\" class=\"data row2 col6\" >0.27</td>\n",
       "    </tr>\n",
       "    <tr>\n",
       "      <th id=\"T_8efc5_level0_row3\" class=\"row_heading level0 row3\" >Latin America and Caribbean</th>\n",
       "      <td id=\"T_8efc5_row3_col0\" class=\"data row3 col0\" >6.06</td>\n",
       "      <td id=\"T_8efc5_row3_col1\" class=\"data row3 col1\" >0.96</td>\n",
       "      <td id=\"T_8efc5_row3_col2\" class=\"data row3 col2\" >1.17</td>\n",
       "      <td id=\"T_8efc5_row3_col3\" class=\"data row3 col3\" >0.67</td>\n",
       "      <td id=\"T_8efc5_row3_col4\" class=\"data row3 col4\" >0.47</td>\n",
       "      <td id=\"T_8efc5_row3_col5\" class=\"data row3 col5\" >0.09</td>\n",
       "      <td id=\"T_8efc5_row3_col6\" class=\"data row3 col6\" >0.19</td>\n",
       "    </tr>\n",
       "    <tr>\n",
       "      <th id=\"T_8efc5_level0_row4\" class=\"row_heading level0 row4\" >Eastern Asia</th>\n",
       "      <td id=\"T_8efc5_row4_col0\" class=\"data row4 col0\" >5.65</td>\n",
       "      <td id=\"T_8efc5_row4_col1\" class=\"data row4 col1\" >1.24</td>\n",
       "      <td id=\"T_8efc5_row4_col2\" class=\"data row4 col2\" >1.20</td>\n",
       "      <td id=\"T_8efc5_row4_col3\" class=\"data row4 col3\" >0.86</td>\n",
       "      <td id=\"T_8efc5_row4_col4\" class=\"data row4 col4\" >0.42</td>\n",
       "      <td id=\"T_8efc5_row4_col5\" class=\"data row4 col5\" >0.12</td>\n",
       "      <td id=\"T_8efc5_row4_col6\" class=\"data row4 col6\" >0.20</td>\n",
       "    </tr>\n",
       "    <tr>\n",
       "      <th id=\"T_8efc5_level0_row5\" class=\"row_heading level0 row5\" >Central and Eastern Europe</th>\n",
       "      <td id=\"T_8efc5_row5_col0\" class=\"data row5 col0\" >5.43</td>\n",
       "      <td id=\"T_8efc5_row5_col1\" class=\"data row5 col1\" >1.02</td>\n",
       "      <td id=\"T_8efc5_row5_col2\" class=\"data row5 col2\" >1.17</td>\n",
       "      <td id=\"T_8efc5_row5_col3\" class=\"data row5 col3\" >0.70</td>\n",
       "      <td id=\"T_8efc5_row5_col4\" class=\"data row5 col4\" >0.35</td>\n",
       "      <td id=\"T_8efc5_row5_col5\" class=\"data row5 col5\" >0.08</td>\n",
       "      <td id=\"T_8efc5_row5_col6\" class=\"data row5 col6\" >0.16</td>\n",
       "    </tr>\n",
       "    <tr>\n",
       "      <th id=\"T_8efc5_level0_row6\" class=\"row_heading level0 row6\" >Southeastern Asia</th>\n",
       "      <td id=\"T_8efc5_row6_col0\" class=\"data row6 col0\" >5.32</td>\n",
       "      <td id=\"T_8efc5_row6_col1\" class=\"data row6 col1\" >0.89</td>\n",
       "      <td id=\"T_8efc5_row6_col2\" class=\"data row6 col2\" >1.09</td>\n",
       "      <td id=\"T_8efc5_row6_col3\" class=\"data row6 col3\" >0.63</td>\n",
       "      <td id=\"T_8efc5_row6_col4\" class=\"data row6 col4\" >0.54</td>\n",
       "      <td id=\"T_8efc5_row6_col5\" class=\"data row6 col5\" >0.14</td>\n",
       "      <td id=\"T_8efc5_row6_col6\" class=\"data row6 col6\" >0.38</td>\n",
       "    </tr>\n",
       "    <tr>\n",
       "      <th id=\"T_8efc5_level0_row7\" class=\"row_heading level0 row7\" >Middle East and Northern Africa</th>\n",
       "      <td id=\"T_8efc5_row7_col0\" class=\"data row7 col0\" >5.32</td>\n",
       "      <td id=\"T_8efc5_row7_col1\" class=\"data row7 col1\" >1.10</td>\n",
       "      <td id=\"T_8efc5_row7_col2\" class=\"data row7 col2\" >0.99</td>\n",
       "      <td id=\"T_8efc5_row7_col3\" class=\"data row7 col3\" >0.66</td>\n",
       "      <td id=\"T_8efc5_row7_col4\" class=\"data row7 col4\" >0.35</td>\n",
       "      <td id=\"T_8efc5_row7_col5\" class=\"data row7 col5\" >0.14</td>\n",
       "      <td id=\"T_8efc5_row7_col6\" class=\"data row7 col6\" >0.18</td>\n",
       "    </tr>\n",
       "    <tr>\n",
       "      <th id=\"T_8efc5_level0_row8\" class=\"row_heading level0 row8\" >Southern Asia</th>\n",
       "      <td id=\"T_8efc5_row8_col0\" class=\"data row8 col0\" >4.58</td>\n",
       "      <td id=\"T_8efc5_row8_col1\" class=\"data row8 col1\" >0.64</td>\n",
       "      <td id=\"T_8efc5_row8_col2\" class=\"data row8 col2\" >0.80</td>\n",
       "      <td id=\"T_8efc5_row8_col3\" class=\"data row8 col3\" >0.51</td>\n",
       "      <td id=\"T_8efc5_row8_col4\" class=\"data row8 col4\" >0.39</td>\n",
       "      <td id=\"T_8efc5_row8_col5\" class=\"data row8 col5\" >0.10</td>\n",
       "      <td id=\"T_8efc5_row8_col6\" class=\"data row8 col6\" >0.30</td>\n",
       "    </tr>\n",
       "    <tr>\n",
       "      <th id=\"T_8efc5_level0_row9\" class=\"row_heading level0 row9\" >Sub-Saharan Africa</th>\n",
       "      <td id=\"T_8efc5_row9_col0\" class=\"data row9 col0\" >4.21</td>\n",
       "      <td id=\"T_8efc5_row9_col1\" class=\"data row9 col1\" >0.46</td>\n",
       "      <td id=\"T_8efc5_row9_col2\" class=\"data row9 col2\" >0.85</td>\n",
       "      <td id=\"T_8efc5_row9_col3\" class=\"data row9 col3\" >0.30</td>\n",
       "      <td id=\"T_8efc5_row9_col4\" class=\"data row9 col4\" >0.35</td>\n",
       "      <td id=\"T_8efc5_row9_col5\" class=\"data row9 col5\" >0.11</td>\n",
       "      <td id=\"T_8efc5_row9_col6\" class=\"data row9 col6\" >0.21</td>\n",
       "    </tr>\n",
       "  </tbody>\n",
       "</table>\n"
      ],
      "text/plain": [
       "<pandas.io.formats.style.Styler at 0x2ca49da7c70>"
      ]
     },
     "execution_count": 20,
     "metadata": {},
     "output_type": "execute_result"
    }
   ],
   "source": [
    "# Cria-se um dataframe com as informações de intere-se, onde o nome de cada região é inserido por meio de um merge\n",
    "media_por_pais = df_5_anos.groupby(by = 'Country').mean()\n",
    "media_por_pais = pd.merge(left = media_por_pais, right = df_2016[['Country', 'Region']], on = 'Country')\n",
    "\n",
    "# Agrupa-se os dados por região e calcula-se a média das variáveis\n",
    "media_por_regiao = media_por_pais.groupby(by = 'Region').mean()\n",
    "media_por_regiao = pd.DataFrame(media_por_regiao.sort_values(ascending = False, by='Happiness Score'))\n",
    "media_por_regiao.style.format('{:.2f}').highlight_max(color='darkgreen').highlight_min(color='#C26161')\n"
   ]
  },
  {
   "cell_type": "markdown",
   "metadata": {},
   "source": [
    "&emsp;A tabela acima apresenta a média de cada parâmetro ao longo de todo o período analisado para cada região/agrupamento de países. Pode-se observar que a Austrália e a Nova Zelândia é a região que possui a maior média de Felicidade, enquanto que a África Subsaariana é aquela que possui o menor valor do índice. Além disso, vê-se que tais resultados estão condizentes com os valores médias das outras variáveis. \\\n",
    "&emsp;Os valores médios do Índice de Felicidade são apresentados em forma de gráfico nas figuras abaixo com fins de facilitar sua visualização."
   ]
  },
  {
   "cell_type": "code",
   "execution_count": 21,
   "metadata": {},
   "outputs": [
    {
     "name": "stderr",
     "output_type": "stream",
     "text": [
      "C:\\Users\\thall\\AppData\\Local\\Temp/ipykernel_14132/3680356301.py:6: UserWarning: FixedFormatter should only be used together with FixedLocator\n",
      "  ax.set_xticklabels(xticklabels, fontsize = 13, rotation = 45, ha = 'right')\n",
      "C:\\Users\\thall\\AppData\\Local\\Temp/ipykernel_14132/3680356301.py:7: UserWarning: FixedFormatter should only be used together with FixedLocator\n",
      "  ax.set_yticklabels(np.arange(0, 9), fontsize = 15)\n"
     ]
    },
    {
     "data": {
      "image/png": "[encoded data removed]",
      "text/plain": [
       "<Figure size 1080x504 with 1 Axes>"
      ]
     },
     "metadata": {
      "needs_background": "light"
     },
     "output_type": "display_data"
    }
   ],
   "source": [
    "# Plota-se um gráfico de colunas para o Índice de Felicidade\n",
    "xticklabels = list(media_por_regiao.index)\n",
    "fig = plt.figure(1, figsize = (15, 7))\n",
    "ax = fig.add_subplot(111)\n",
    "plt.bar(x = media_por_regiao.index, height = media_por_regiao['Happiness Score'])\n",
    "ax.set_xticklabels(xticklabels, fontsize = 13, rotation = 45, ha = 'right')\n",
    "ax.set_yticklabels(np.arange(0, 9), fontsize = 15)\n",
    "plt.xlabel('Regions', fontsize = 15)\n",
    "plt.ylabel('Hapiness Score', fontsize = 15)\n",
    "plt.show();"
   ]
  },
  {
   "cell_type": "markdown",
   "metadata": {},
   "source": [
    "### Em seguida, gera-se um mapa com escala de cores com gradiente para as regiões de acordo com seu índice de felicidade"
   ]
  },
  {
   "cell_type": "code",
   "execution_count": 66,
   "metadata": {},
   "outputs": [
    {
     "data": {
      "text/plain": [
       "<Figure size 1080x576 with 0 Axes>"
      ]
     },
     "metadata": {},
     "output_type": "display_data"
    },
    {
     "data": {
      "image/png": "[encoded data removed]",
      "text/plain": [
       "<Figure size 1080x576 with 2 Axes>"
      ]
     },
     "metadata": {
      "needs_background": "light"
     },
     "output_type": "display_data"
    }
   ],
   "source": [
    "import geopandas as gpd\n",
    "from mpl_toolkits.axes_grid1 import make_axes_locatable\n",
    "\n",
    "mundo = gpd.read_file('../topcoders/dados_geoespaciais/world_dis_merge.shp')\n",
    "\n",
    "mundo = mundo.sort_values(by = 'score_hap', ascending = False)\n",
    "mundo.region = media_por_regiao.index\n",
    "\n",
    "mundo['coords'] = mundo['geometry'].apply(lambda x: x.representative_point().coords[:])\n",
    "mundo['coords'] = [coords[0] for coords in mundo['coords']]\n",
    "\n",
    "plt.figure(figsize = (15,8))\n",
    "fig, ax = plt.subplots(1, 1, figsize = (15, 8))\n",
    "divider = make_axes_locatable(ax)\n",
    "cax = divider.append_axes(\"right\", size=\"2%\", pad=0.1)\n",
    "ax = mundo.plot(column='score_hap', ax=ax, legend=True, cax=cax, cmap = 'Greens', edgecolor = 'gray')\n",
    "ax.set_axis_off();\n",
    "\n",
    "mundo.apply(lambda x: ax.annotate(text=x['region'], xy=x.geometry.centroid.coords[0], ha='right', va='top',\n",
    "                                  bbox = {'boxstyle': 'round, pad=0.15', 'fc': 'white', 'alpha': 0.5}), axis=1);"
   ]
  }
 ],
 "metadata": {
  "colab": {
   "collapsed_sections": [],
   "name": "projeto3.ipynb",
   "provenance": []
  },
  "kernelspec": {
   "display_name": "Python 3 (ipykernel)",
   "language": "python",
   "name": "python3"
  },
  "language_info": {
   "codemirror_mode": {
    "name": "ipython",
    "version": 3
   },
   "file_extension": ".py",
   "mimetype": "text/x-python",
   "name": "python",
   "nbconvert_exporter": "python",
   "pygments_lexer": "ipython3",
   "version": "3.9.7"
  },
  "vscode": {
   "interpreter": {
    "hash": "8efe548fbac8fc23c9b0d4df55b8a90b975c5b53fbb9a79b591c1c3270386ba7"
   }
  }
 },
 "nbformat": 4,
 "nbformat_minor": 1
}
